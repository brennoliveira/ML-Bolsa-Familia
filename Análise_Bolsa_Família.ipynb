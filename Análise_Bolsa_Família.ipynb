{
  "cells": [
    {
      "cell_type": "markdown",
      "metadata": {
        "colab_type": "text",
        "id": "view-in-github"
      },
      "source": [
        "<a href=\"https://colab.research.google.com/github/brennoliveira/ML-Bolsa-Familia/blob/main/An%C3%A1lise_Bolsa_Fam%C3%ADlia.ipynb\" target=\"_parent\"><img src=\"https://colab.research.google.com/assets/colab-badge.svg\" alt=\"Open In Colab\"/></a>"
      ]
    },
    {
      "cell_type": "code",
      "execution_count": 173,
      "metadata": {
        "id": "mjJbCnvPr6gG"
      },
      "outputs": [],
      "source": [
        "import pandas as pd\n",
        "import numpy as np\n",
        "import seaborn as sns"
      ]
    },
    {
      "cell_type": "code",
      "execution_count": 174,
      "metadata": {
        "id": "9_7BCn7MsTWK"
      },
      "outputs": [],
      "source": [
        "df = pd.read_csv('datasets/data_familia_sergipe.csv')\n",
        "dp = pd.read_csv('datasets/data_pessoas_sergipe.csv')"
      ]
    },
    {
      "cell_type": "code",
      "execution_count": 175,
      "metadata": {
        "colab": {
          "base_uri": "https://localhost:8080/",
          "height": 958
        },
        "id": "tP5ysM5Uts3_",
        "outputId": "ce35449f-0ad4-450b-c882-a4eb9c65642e"
      },
      "outputs": [
        {
          "data": {
            "text/html": [
              "<div>\n",
              "<style scoped>\n",
              "    .dataframe tbody tr th:only-of-type {\n",
              "        vertical-align: middle;\n",
              "    }\n",
              "\n",
              "    .dataframe tbody tr th {\n",
              "        vertical-align: top;\n",
              "    }\n",
              "\n",
              "    .dataframe thead th {\n",
              "        text-align: right;\n",
              "    }\n",
              "</style>\n",
              "<table border=\"1\" class=\"dataframe\">\n",
              "  <thead>\n",
              "    <tr style=\"text-align: right;\">\n",
              "      <th></th>\n",
              "      <th>cd_ibge</th>\n",
              "      <th>estrato</th>\n",
              "      <th>classf</th>\n",
              "      <th>id_familia</th>\n",
              "      <th>dat_cadastramento_fam</th>\n",
              "      <th>dat_alteracao_fam</th>\n",
              "      <th>vlr_renda_media_fam</th>\n",
              "      <th>dat_atualizacao_familia</th>\n",
              "      <th>cod_local_domic_fam</th>\n",
              "      <th>cod_especie_domic_fam</th>\n",
              "      <th>...</th>\n",
              "      <th>cod_familia_indigena_fam</th>\n",
              "      <th>ind_familia_quilombola_fam</th>\n",
              "      <th>nom_estab_assist_saude_fam</th>\n",
              "      <th>cod_eas_fam</th>\n",
              "      <th>nom_centro_assist_fam</th>\n",
              "      <th>cod_centro_assist_fam</th>\n",
              "      <th>ind_parc_mds_fam</th>\n",
              "      <th>marc_pbf</th>\n",
              "      <th>qtde_pessoas</th>\n",
              "      <th>peso.fam</th>\n",
              "    </tr>\n",
              "  </thead>\n",
              "  <tbody>\n",
              "    <tr>\n",
              "      <th>0</th>\n",
              "      <td>2806206</td>\n",
              "      <td>2</td>\n",
              "      <td>3</td>\n",
              "      <td>183415.0</td>\n",
              "      <td>2006-01-07</td>\n",
              "      <td>2018-09-30</td>\n",
              "      <td>58.0</td>\n",
              "      <td>2018-02-27</td>\n",
              "      <td>1.0</td>\n",
              "      <td>1.0</td>\n",
              "      <td>...</td>\n",
              "      <td>2.0</td>\n",
              "      <td>2.0</td>\n",
              "      <td>P S IVA SALGUEIRO</td>\n",
              "      <td>2421836.0</td>\n",
              "      <td>CRAS CENTRO DE REFERENCIA DA ASSISTENCIA SOCIAL</td>\n",
              "      <td>2.806200e+10</td>\n",
              "      <td>0.0</td>\n",
              "      <td>0</td>\n",
              "      <td>4</td>\n",
              "      <td>550052838636015</td>\n",
              "    </tr>\n",
              "    <tr>\n",
              "      <th>1</th>\n",
              "      <td>2803609</td>\n",
              "      <td>2</td>\n",
              "      <td>3</td>\n",
              "      <td>183416.0</td>\n",
              "      <td>2010-03-09</td>\n",
              "      <td>2018-09-30</td>\n",
              "      <td>190.0</td>\n",
              "      <td>2018-07-20</td>\n",
              "      <td>2.0</td>\n",
              "      <td>1.0</td>\n",
              "      <td>...</td>\n",
              "      <td>2.0</td>\n",
              "      <td>2.0</td>\n",
              "      <td>POSTO DE SAUDE RICARDO HAGENBECK</td>\n",
              "      <td>2421380.0</td>\n",
              "      <td>CRAS ANGELA MARIA DE CARVALHO LIMA BOMFIM</td>\n",
              "      <td>2.803602e+10</td>\n",
              "      <td>0.0</td>\n",
              "      <td>0</td>\n",
              "      <td>5</td>\n",
              "      <td>550245146328323</td>\n",
              "    </tr>\n",
              "    <tr>\n",
              "      <th>2</th>\n",
              "      <td>2803203</td>\n",
              "      <td>2</td>\n",
              "      <td>3</td>\n",
              "      <td>183417.0</td>\n",
              "      <td>2006-02-25</td>\n",
              "      <td>2018-09-30</td>\n",
              "      <td>100.0</td>\n",
              "      <td>2018-08-21</td>\n",
              "      <td>1.0</td>\n",
              "      <td>1.0</td>\n",
              "      <td>...</td>\n",
              "      <td>2.0</td>\n",
              "      <td>2.0</td>\n",
              "      <td>NaN</td>\n",
              "      <td>NaN</td>\n",
              "      <td>NaN</td>\n",
              "      <td>NaN</td>\n",
              "      <td>0.0</td>\n",
              "      <td>1</td>\n",
              "      <td>2</td>\n",
              "      <td>550305936601879</td>\n",
              "    </tr>\n",
              "    <tr>\n",
              "      <th>3</th>\n",
              "      <td>2805703</td>\n",
              "      <td>2</td>\n",
              "      <td>3</td>\n",
              "      <td>183418.0</td>\n",
              "      <td>2004-05-25</td>\n",
              "      <td>2017-12-15</td>\n",
              "      <td>937.0</td>\n",
              "      <td>2017-11-09</td>\n",
              "      <td>1.0</td>\n",
              "      <td>1.0</td>\n",
              "      <td>...</td>\n",
              "      <td>2.0</td>\n",
              "      <td>2.0</td>\n",
              "      <td>NaN</td>\n",
              "      <td>NaN</td>\n",
              "      <td>NaN</td>\n",
              "      <td>NaN</td>\n",
              "      <td>0.0</td>\n",
              "      <td>0</td>\n",
              "      <td>1</td>\n",
              "      <td>550405659971983</td>\n",
              "    </tr>\n",
              "    <tr>\n",
              "      <th>4</th>\n",
              "      <td>2805307</td>\n",
              "      <td>1</td>\n",
              "      <td>3</td>\n",
              "      <td>183419.0</td>\n",
              "      <td>2016-03-31</td>\n",
              "      <td>2018-10-15</td>\n",
              "      <td>25.0</td>\n",
              "      <td>2018-10-15</td>\n",
              "      <td>2.0</td>\n",
              "      <td>1.0</td>\n",
              "      <td>...</td>\n",
              "      <td>2.0</td>\n",
              "      <td>2.0</td>\n",
              "      <td>NaN</td>\n",
              "      <td>NaN</td>\n",
              "      <td>NaN</td>\n",
              "      <td>NaN</td>\n",
              "      <td>0.0</td>\n",
              "      <td>1</td>\n",
              "      <td>2</td>\n",
              "      <td>550245146328323</td>\n",
              "    </tr>\n",
              "  </tbody>\n",
              "</table>\n",
              "<p>5 rows × 31 columns</p>\n",
              "</div>"
            ],
            "text/plain": [
              "   cd_ibge  estrato  classf  id_familia dat_cadastramento_fam  \\\n",
              "0  2806206        2       3    183415.0            2006-01-07   \n",
              "1  2803609        2       3    183416.0            2010-03-09   \n",
              "2  2803203        2       3    183417.0            2006-02-25   \n",
              "3  2805703        2       3    183418.0            2004-05-25   \n",
              "4  2805307        1       3    183419.0            2016-03-31   \n",
              "\n",
              "  dat_alteracao_fam  vlr_renda_media_fam dat_atualizacao_familia  \\\n",
              "0        2018-09-30                 58.0              2018-02-27   \n",
              "1        2018-09-30                190.0              2018-07-20   \n",
              "2        2018-09-30                100.0              2018-08-21   \n",
              "3        2017-12-15                937.0              2017-11-09   \n",
              "4        2018-10-15                 25.0              2018-10-15   \n",
              "\n",
              "   cod_local_domic_fam  cod_especie_domic_fam  ...  cod_familia_indigena_fam  \\\n",
              "0                  1.0                    1.0  ...                       2.0   \n",
              "1                  2.0                    1.0  ...                       2.0   \n",
              "2                  1.0                    1.0  ...                       2.0   \n",
              "3                  1.0                    1.0  ...                       2.0   \n",
              "4                  2.0                    1.0  ...                       2.0   \n",
              "\n",
              "   ind_familia_quilombola_fam        nom_estab_assist_saude_fam  cod_eas_fam  \\\n",
              "0                         2.0                 P S IVA SALGUEIRO    2421836.0   \n",
              "1                         2.0  POSTO DE SAUDE RICARDO HAGENBECK    2421380.0   \n",
              "2                         2.0                               NaN          NaN   \n",
              "3                         2.0                               NaN          NaN   \n",
              "4                         2.0                               NaN          NaN   \n",
              "\n",
              "                             nom_centro_assist_fam  cod_centro_assist_fam  \\\n",
              "0  CRAS CENTRO DE REFERENCIA DA ASSISTENCIA SOCIAL           2.806200e+10   \n",
              "1        CRAS ANGELA MARIA DE CARVALHO LIMA BOMFIM           2.803602e+10   \n",
              "2                                              NaN                    NaN   \n",
              "3                                              NaN                    NaN   \n",
              "4                                              NaN                    NaN   \n",
              "\n",
              "   ind_parc_mds_fam  marc_pbf  qtde_pessoas         peso.fam  \n",
              "0               0.0         0             4  550052838636015  \n",
              "1               0.0         0             5  550245146328323  \n",
              "2               0.0         1             2  550305936601879  \n",
              "3               0.0         0             1  550405659971983  \n",
              "4               0.0         1             2  550245146328323  \n",
              "\n",
              "[5 rows x 31 columns]"
            ]
          },
          "execution_count": 175,
          "metadata": {},
          "output_type": "execute_result"
        }
      ],
      "source": [
        "df.head()\n",
        "# 1. NORMALIZAR OS DADOS\n",
        "# 2. REDUZIR VARIÁVEIS\n",
        "# \n",
        "\n",
        "# df.corr()\n",
        "\n",
        "# A PARTIR DA CORRELAÇÃO, IDENTIFICAMENTO UMA CORRELAÇÃO NEGATIVA FORTE ENTRE marc_pbf e vlr_renda_media_fam\n",
        "\n",
        "# dp.corr()\n",
        "\n",
        "# A PARTIR DA CORRELAÇÃO, IDENTIFICAMENTO UMA CORRELAÇÃO POSITIVA FORTE ENTRE idade e cod_curso_frequenta_memb\n"
      ]
    },
    {
      "cell_type": "code",
      "execution_count": 176,
      "metadata": {
        "colab": {
          "base_uri": "https://localhost:8080/"
        },
        "id": "3JMIH8emvJ4I",
        "outputId": "a576e1d4-8dbd-4093-a192-352ff76f067d"
      },
      "outputs": [
        {
          "data": {
            "text/plain": [
              "1    61.460954\n",
              "0    38.539046\n",
              "Name: marc_pbf, dtype: float64"
            ]
          },
          "execution_count": 176,
          "metadata": {},
          "output_type": "execute_result"
        }
      ],
      "source": [
        "# PORCENTAGEM DE PESSOAS QUE RECEBEM BOLSA FAMILIA\n",
        "df_recebem = df.query('marc_pbf == 1')\n",
        "df_recebem\n",
        "\n",
        "df.marc_pbf.value_counts(normalize=True)*100"
      ]
    },
    {
      "cell_type": "code",
      "execution_count": 177,
      "metadata": {
        "colab": {
          "base_uri": "https://localhost:8080/",
          "height": 237
        },
        "id": "5_CYzdc0muS-",
        "outputId": "67e9db1d-9cb5-4dd8-dc13-2ac4c811457c"
      },
      "outputs": [
        {
          "data": {
            "text/html": [
              "<div>\n",
              "<style scoped>\n",
              "    .dataframe tbody tr th:only-of-type {\n",
              "        vertical-align: middle;\n",
              "    }\n",
              "\n",
              "    .dataframe tbody tr th {\n",
              "        vertical-align: top;\n",
              "    }\n",
              "\n",
              "    .dataframe thead th {\n",
              "        text-align: right;\n",
              "    }\n",
              "</style>\n",
              "<table border=\"1\" class=\"dataframe\">\n",
              "  <thead>\n",
              "    <tr style=\"text-align: right;\">\n",
              "      <th>vlr_renda_media_fam</th>\n",
              "      <th>0.0</th>\n",
              "      <th>1.0</th>\n",
              "      <th>2.0</th>\n",
              "      <th>3.0</th>\n",
              "      <th>4.0</th>\n",
              "      <th>5.0</th>\n",
              "      <th>6.0</th>\n",
              "      <th>7.0</th>\n",
              "      <th>8.0</th>\n",
              "      <th>9.0</th>\n",
              "      <th>...</th>\n",
              "      <th>2515.0</th>\n",
              "      <th>2542.0</th>\n",
              "      <th>2600.0</th>\n",
              "      <th>2638.0</th>\n",
              "      <th>2700.0</th>\n",
              "      <th>2701.0</th>\n",
              "      <th>2739.0</th>\n",
              "      <th>2791.0</th>\n",
              "      <th>2800.0</th>\n",
              "      <th>2811.0</th>\n",
              "    </tr>\n",
              "    <tr>\n",
              "      <th>marc_pbf</th>\n",
              "      <th></th>\n",
              "      <th></th>\n",
              "      <th></th>\n",
              "      <th></th>\n",
              "      <th></th>\n",
              "      <th></th>\n",
              "      <th></th>\n",
              "      <th></th>\n",
              "      <th></th>\n",
              "      <th></th>\n",
              "      <th></th>\n",
              "      <th></th>\n",
              "      <th></th>\n",
              "      <th></th>\n",
              "      <th></th>\n",
              "      <th></th>\n",
              "      <th></th>\n",
              "      <th></th>\n",
              "      <th></th>\n",
              "      <th></th>\n",
              "      <th></th>\n",
              "    </tr>\n",
              "  </thead>\n",
              "  <tbody>\n",
              "    <tr>\n",
              "      <th>0</th>\n",
              "      <td>338</td>\n",
              "      <td>1</td>\n",
              "      <td>12</td>\n",
              "      <td>7</td>\n",
              "      <td>22</td>\n",
              "      <td>27</td>\n",
              "      <td>35</td>\n",
              "      <td>18</td>\n",
              "      <td>47</td>\n",
              "      <td>2</td>\n",
              "      <td>...</td>\n",
              "      <td>1</td>\n",
              "      <td>1</td>\n",
              "      <td>1</td>\n",
              "      <td>1</td>\n",
              "      <td>2</td>\n",
              "      <td>1</td>\n",
              "      <td>1</td>\n",
              "      <td>1</td>\n",
              "      <td>2</td>\n",
              "      <td>2</td>\n",
              "    </tr>\n",
              "    <tr>\n",
              "      <th>1</th>\n",
              "      <td>2757</td>\n",
              "      <td>102</td>\n",
              "      <td>293</td>\n",
              "      <td>237</td>\n",
              "      <td>456</td>\n",
              "      <td>465</td>\n",
              "      <td>567</td>\n",
              "      <td>191</td>\n",
              "      <td>840</td>\n",
              "      <td>119</td>\n",
              "      <td>...</td>\n",
              "      <td>0</td>\n",
              "      <td>0</td>\n",
              "      <td>0</td>\n",
              "      <td>0</td>\n",
              "      <td>0</td>\n",
              "      <td>0</td>\n",
              "      <td>0</td>\n",
              "      <td>0</td>\n",
              "      <td>0</td>\n",
              "      <td>0</td>\n",
              "    </tr>\n",
              "  </tbody>\n",
              "</table>\n",
              "<p>2 rows × 1186 columns</p>\n",
              "</div>"
            ],
            "text/plain": [
              "vlr_renda_media_fam  0.0     1.0     2.0     3.0     4.0     5.0     6.0     \\\n",
              "marc_pbf                                                                      \n",
              "0                       338       1      12       7      22      27      35   \n",
              "1                      2757     102     293     237     456     465     567   \n",
              "\n",
              "vlr_renda_media_fam  7.0     8.0     9.0     ...  2515.0  2542.0  2600.0  \\\n",
              "marc_pbf                                     ...                           \n",
              "0                        18      47       2  ...       1       1       1   \n",
              "1                       191     840     119  ...       0       0       0   \n",
              "\n",
              "vlr_renda_media_fam  2638.0  2700.0  2701.0  2739.0  2791.0  2800.0  2811.0  \n",
              "marc_pbf                                                                     \n",
              "0                         1       2       1       1       1       2       2  \n",
              "1                         0       0       0       0       0       0       0  \n",
              "\n",
              "[2 rows x 1186 columns]"
            ]
          },
          "execution_count": 177,
          "metadata": {},
          "output_type": "execute_result"
        }
      ],
      "source": [
        "# QUEM RECEBE BF COMPARADO COM A RENDA MEDIA\n",
        "frequencia = pd.crosstab(df.marc_pbf, df.vlr_renda_media_fam)\n",
        "frequencia"
      ]
    },
    {
      "cell_type": "code",
      "execution_count": 178,
      "metadata": {
        "colab": {
          "base_uri": "https://localhost:8080/",
          "height": 592
        },
        "id": "hJ2dR0WUoB4n",
        "outputId": "968cc3db-e543-4e48-bd25-9e44cfd6b53c"
      },
      "outputs": [
        {
          "data": {
            "text/plain": [
              "marc_pbf\n",
              "0    478.413082\n",
              "1     55.436134\n",
              "Name: vlr_renda_media_fam, dtype: float64"
            ]
          },
          "execution_count": 178,
          "metadata": {},
          "output_type": "execute_result"
        }
      ],
      "source": [
        "# MÉDIA DA RENDA MÉDIA ENTRE AS PESSOAS QUE RECEBEM E N RECEBEM BOLSA FAMILIA\n",
        "df.groupby(['marc_pbf'])['vlr_renda_media_fam'].mean()\n",
        "\n"
      ]
    },
    {
      "cell_type": "code",
      "execution_count": 179,
      "metadata": {
        "colab": {
          "base_uri": "https://localhost:8080/",
          "height": 540
        },
        "id": "IhXJjTdkp1Yt",
        "outputId": "3d301d83-69f7-4fdc-edfc-13735885fbdd"
      },
      "outputs": [
        {
          "data": {
            "text/html": [
              "<div>\n",
              "<style scoped>\n",
              "    .dataframe tbody tr th:only-of-type {\n",
              "        vertical-align: middle;\n",
              "    }\n",
              "\n",
              "    .dataframe tbody tr th {\n",
              "        vertical-align: top;\n",
              "    }\n",
              "\n",
              "    .dataframe thead th {\n",
              "        text-align: right;\n",
              "    }\n",
              "</style>\n",
              "<table border=\"1\" class=\"dataframe\">\n",
              "  <thead>\n",
              "    <tr style=\"text-align: right;\">\n",
              "      <th></th>\n",
              "      <th>cd_ibge</th>\n",
              "      <th>estrato</th>\n",
              "      <th>classf</th>\n",
              "      <th>id_familia</th>\n",
              "      <th>dat_cadastramento_fam</th>\n",
              "      <th>dat_alteracao_fam</th>\n",
              "      <th>vlr_renda_media_fam</th>\n",
              "      <th>dat_atualizacao_familia</th>\n",
              "      <th>cod_local_domic_fam</th>\n",
              "      <th>cod_especie_domic_fam</th>\n",
              "      <th>...</th>\n",
              "      <th>cod_familia_indigena_fam</th>\n",
              "      <th>ind_familia_quilombola_fam</th>\n",
              "      <th>nom_estab_assist_saude_fam</th>\n",
              "      <th>cod_eas_fam</th>\n",
              "      <th>nom_centro_assist_fam</th>\n",
              "      <th>cod_centro_assist_fam</th>\n",
              "      <th>ind_parc_mds_fam</th>\n",
              "      <th>marc_pbf</th>\n",
              "      <th>qtde_pessoas</th>\n",
              "      <th>peso.fam</th>\n",
              "    </tr>\n",
              "  </thead>\n",
              "  <tbody>\n",
              "    <tr>\n",
              "      <th>0</th>\n",
              "      <td>2800308.0</td>\n",
              "      <td>2.0</td>\n",
              "      <td>3.0</td>\n",
              "      <td>183417.0</td>\n",
              "      <td>2003-03-13</td>\n",
              "      <td>2018-09-30</td>\n",
              "      <td>50.0</td>\n",
              "      <td>2018-09-11</td>\n",
              "      <td>1.0</td>\n",
              "      <td>1.0</td>\n",
              "      <td>...</td>\n",
              "      <td>2.0</td>\n",
              "      <td>2.0</td>\n",
              "      <td>CENTRO DE SAUDE JOSE NAILSON MOURA</td>\n",
              "      <td>3010732.0</td>\n",
              "      <td>CENTRO DE REFERENCIA DA ASSISTENCIA SOCIAL CRAS</td>\n",
              "      <td>2.804500e+10</td>\n",
              "      <td>0.0</td>\n",
              "      <td>1.0</td>\n",
              "      <td>2.0</td>\n",
              "      <td>5.502451e+14</td>\n",
              "    </tr>\n",
              "    <tr>\n",
              "      <th>1</th>\n",
              "      <td>NaN</td>\n",
              "      <td>NaN</td>\n",
              "      <td>NaN</td>\n",
              "      <td>183419.0</td>\n",
              "      <td>NaN</td>\n",
              "      <td>NaN</td>\n",
              "      <td>NaN</td>\n",
              "      <td>NaN</td>\n",
              "      <td>NaN</td>\n",
              "      <td>NaN</td>\n",
              "      <td>...</td>\n",
              "      <td>NaN</td>\n",
              "      <td>NaN</td>\n",
              "      <td>NaN</td>\n",
              "      <td>NaN</td>\n",
              "      <td>NaN</td>\n",
              "      <td>NaN</td>\n",
              "      <td>NaN</td>\n",
              "      <td>NaN</td>\n",
              "      <td>NaN</td>\n",
              "      <td>NaN</td>\n",
              "    </tr>\n",
              "    <tr>\n",
              "      <th>2</th>\n",
              "      <td>NaN</td>\n",
              "      <td>NaN</td>\n",
              "      <td>NaN</td>\n",
              "      <td>183420.0</td>\n",
              "      <td>NaN</td>\n",
              "      <td>NaN</td>\n",
              "      <td>NaN</td>\n",
              "      <td>NaN</td>\n",
              "      <td>NaN</td>\n",
              "      <td>NaN</td>\n",
              "      <td>...</td>\n",
              "      <td>NaN</td>\n",
              "      <td>NaN</td>\n",
              "      <td>NaN</td>\n",
              "      <td>NaN</td>\n",
              "      <td>NaN</td>\n",
              "      <td>NaN</td>\n",
              "      <td>NaN</td>\n",
              "      <td>NaN</td>\n",
              "      <td>NaN</td>\n",
              "      <td>NaN</td>\n",
              "    </tr>\n",
              "    <tr>\n",
              "      <th>3</th>\n",
              "      <td>NaN</td>\n",
              "      <td>NaN</td>\n",
              "      <td>NaN</td>\n",
              "      <td>183421.0</td>\n",
              "      <td>NaN</td>\n",
              "      <td>NaN</td>\n",
              "      <td>NaN</td>\n",
              "      <td>NaN</td>\n",
              "      <td>NaN</td>\n",
              "      <td>NaN</td>\n",
              "      <td>...</td>\n",
              "      <td>NaN</td>\n",
              "      <td>NaN</td>\n",
              "      <td>NaN</td>\n",
              "      <td>NaN</td>\n",
              "      <td>NaN</td>\n",
              "      <td>NaN</td>\n",
              "      <td>NaN</td>\n",
              "      <td>NaN</td>\n",
              "      <td>NaN</td>\n",
              "      <td>NaN</td>\n",
              "    </tr>\n",
              "    <tr>\n",
              "      <th>4</th>\n",
              "      <td>NaN</td>\n",
              "      <td>NaN</td>\n",
              "      <td>NaN</td>\n",
              "      <td>183422.0</td>\n",
              "      <td>NaN</td>\n",
              "      <td>NaN</td>\n",
              "      <td>NaN</td>\n",
              "      <td>NaN</td>\n",
              "      <td>NaN</td>\n",
              "      <td>NaN</td>\n",
              "      <td>...</td>\n",
              "      <td>NaN</td>\n",
              "      <td>NaN</td>\n",
              "      <td>NaN</td>\n",
              "      <td>NaN</td>\n",
              "      <td>NaN</td>\n",
              "      <td>NaN</td>\n",
              "      <td>NaN</td>\n",
              "      <td>NaN</td>\n",
              "      <td>NaN</td>\n",
              "      <td>NaN</td>\n",
              "    </tr>\n",
              "    <tr>\n",
              "      <th>...</th>\n",
              "      <td>...</td>\n",
              "      <td>...</td>\n",
              "      <td>...</td>\n",
              "      <td>...</td>\n",
              "      <td>...</td>\n",
              "      <td>...</td>\n",
              "      <td>...</td>\n",
              "      <td>...</td>\n",
              "      <td>...</td>\n",
              "      <td>...</td>\n",
              "      <td>...</td>\n",
              "      <td>...</td>\n",
              "      <td>...</td>\n",
              "      <td>...</td>\n",
              "      <td>...</td>\n",
              "      <td>...</td>\n",
              "      <td>...</td>\n",
              "      <td>...</td>\n",
              "      <td>...</td>\n",
              "      <td>...</td>\n",
              "      <td>...</td>\n",
              "    </tr>\n",
              "    <tr>\n",
              "      <th>50562</th>\n",
              "      <td>NaN</td>\n",
              "      <td>NaN</td>\n",
              "      <td>NaN</td>\n",
              "      <td>4250240.0</td>\n",
              "      <td>NaN</td>\n",
              "      <td>NaN</td>\n",
              "      <td>NaN</td>\n",
              "      <td>NaN</td>\n",
              "      <td>NaN</td>\n",
              "      <td>NaN</td>\n",
              "      <td>...</td>\n",
              "      <td>NaN</td>\n",
              "      <td>NaN</td>\n",
              "      <td>NaN</td>\n",
              "      <td>NaN</td>\n",
              "      <td>NaN</td>\n",
              "      <td>NaN</td>\n",
              "      <td>NaN</td>\n",
              "      <td>NaN</td>\n",
              "      <td>NaN</td>\n",
              "      <td>NaN</td>\n",
              "    </tr>\n",
              "    <tr>\n",
              "      <th>50563</th>\n",
              "      <td>NaN</td>\n",
              "      <td>NaN</td>\n",
              "      <td>NaN</td>\n",
              "      <td>4250241.0</td>\n",
              "      <td>NaN</td>\n",
              "      <td>NaN</td>\n",
              "      <td>NaN</td>\n",
              "      <td>NaN</td>\n",
              "      <td>NaN</td>\n",
              "      <td>NaN</td>\n",
              "      <td>...</td>\n",
              "      <td>NaN</td>\n",
              "      <td>NaN</td>\n",
              "      <td>NaN</td>\n",
              "      <td>NaN</td>\n",
              "      <td>NaN</td>\n",
              "      <td>NaN</td>\n",
              "      <td>NaN</td>\n",
              "      <td>NaN</td>\n",
              "      <td>NaN</td>\n",
              "      <td>NaN</td>\n",
              "    </tr>\n",
              "    <tr>\n",
              "      <th>50564</th>\n",
              "      <td>NaN</td>\n",
              "      <td>NaN</td>\n",
              "      <td>NaN</td>\n",
              "      <td>4250243.0</td>\n",
              "      <td>NaN</td>\n",
              "      <td>NaN</td>\n",
              "      <td>NaN</td>\n",
              "      <td>NaN</td>\n",
              "      <td>NaN</td>\n",
              "      <td>NaN</td>\n",
              "      <td>...</td>\n",
              "      <td>NaN</td>\n",
              "      <td>NaN</td>\n",
              "      <td>NaN</td>\n",
              "      <td>NaN</td>\n",
              "      <td>NaN</td>\n",
              "      <td>NaN</td>\n",
              "      <td>NaN</td>\n",
              "      <td>NaN</td>\n",
              "      <td>NaN</td>\n",
              "      <td>NaN</td>\n",
              "    </tr>\n",
              "    <tr>\n",
              "      <th>50565</th>\n",
              "      <td>NaN</td>\n",
              "      <td>NaN</td>\n",
              "      <td>NaN</td>\n",
              "      <td>4250244.0</td>\n",
              "      <td>NaN</td>\n",
              "      <td>NaN</td>\n",
              "      <td>NaN</td>\n",
              "      <td>NaN</td>\n",
              "      <td>NaN</td>\n",
              "      <td>NaN</td>\n",
              "      <td>...</td>\n",
              "      <td>NaN</td>\n",
              "      <td>NaN</td>\n",
              "      <td>NaN</td>\n",
              "      <td>NaN</td>\n",
              "      <td>NaN</td>\n",
              "      <td>NaN</td>\n",
              "      <td>NaN</td>\n",
              "      <td>NaN</td>\n",
              "      <td>NaN</td>\n",
              "      <td>NaN</td>\n",
              "    </tr>\n",
              "    <tr>\n",
              "      <th>50566</th>\n",
              "      <td>NaN</td>\n",
              "      <td>NaN</td>\n",
              "      <td>NaN</td>\n",
              "      <td>4250245.0</td>\n",
              "      <td>NaN</td>\n",
              "      <td>NaN</td>\n",
              "      <td>NaN</td>\n",
              "      <td>NaN</td>\n",
              "      <td>NaN</td>\n",
              "      <td>NaN</td>\n",
              "      <td>...</td>\n",
              "      <td>NaN</td>\n",
              "      <td>NaN</td>\n",
              "      <td>NaN</td>\n",
              "      <td>NaN</td>\n",
              "      <td>NaN</td>\n",
              "      <td>NaN</td>\n",
              "      <td>NaN</td>\n",
              "      <td>NaN</td>\n",
              "      <td>NaN</td>\n",
              "      <td>NaN</td>\n",
              "    </tr>\n",
              "  </tbody>\n",
              "</table>\n",
              "<p>50567 rows × 31 columns</p>\n",
              "</div>"
            ],
            "text/plain": [
              "         cd_ibge  estrato  classf  id_familia dat_cadastramento_fam  \\\n",
              "0      2800308.0      2.0     3.0    183417.0            2003-03-13   \n",
              "1            NaN      NaN     NaN    183419.0                   NaN   \n",
              "2            NaN      NaN     NaN    183420.0                   NaN   \n",
              "3            NaN      NaN     NaN    183421.0                   NaN   \n",
              "4            NaN      NaN     NaN    183422.0                   NaN   \n",
              "...          ...      ...     ...         ...                   ...   \n",
              "50562        NaN      NaN     NaN   4250240.0                   NaN   \n",
              "50563        NaN      NaN     NaN   4250241.0                   NaN   \n",
              "50564        NaN      NaN     NaN   4250243.0                   NaN   \n",
              "50565        NaN      NaN     NaN   4250244.0                   NaN   \n",
              "50566        NaN      NaN     NaN   4250245.0                   NaN   \n",
              "\n",
              "      dat_alteracao_fam  vlr_renda_media_fam dat_atualizacao_familia  \\\n",
              "0            2018-09-30                 50.0              2018-09-11   \n",
              "1                   NaN                  NaN                     NaN   \n",
              "2                   NaN                  NaN                     NaN   \n",
              "3                   NaN                  NaN                     NaN   \n",
              "4                   NaN                  NaN                     NaN   \n",
              "...                 ...                  ...                     ...   \n",
              "50562               NaN                  NaN                     NaN   \n",
              "50563               NaN                  NaN                     NaN   \n",
              "50564               NaN                  NaN                     NaN   \n",
              "50565               NaN                  NaN                     NaN   \n",
              "50566               NaN                  NaN                     NaN   \n",
              "\n",
              "       cod_local_domic_fam  cod_especie_domic_fam  ...  \\\n",
              "0                      1.0                    1.0  ...   \n",
              "1                      NaN                    NaN  ...   \n",
              "2                      NaN                    NaN  ...   \n",
              "3                      NaN                    NaN  ...   \n",
              "4                      NaN                    NaN  ...   \n",
              "...                    ...                    ...  ...   \n",
              "50562                  NaN                    NaN  ...   \n",
              "50563                  NaN                    NaN  ...   \n",
              "50564                  NaN                    NaN  ...   \n",
              "50565                  NaN                    NaN  ...   \n",
              "50566                  NaN                    NaN  ...   \n",
              "\n",
              "       cod_familia_indigena_fam  ind_familia_quilombola_fam  \\\n",
              "0                           2.0                         2.0   \n",
              "1                           NaN                         NaN   \n",
              "2                           NaN                         NaN   \n",
              "3                           NaN                         NaN   \n",
              "4                           NaN                         NaN   \n",
              "...                         ...                         ...   \n",
              "50562                       NaN                         NaN   \n",
              "50563                       NaN                         NaN   \n",
              "50564                       NaN                         NaN   \n",
              "50565                       NaN                         NaN   \n",
              "50566                       NaN                         NaN   \n",
              "\n",
              "               nom_estab_assist_saude_fam  cod_eas_fam  \\\n",
              "0      CENTRO DE SAUDE JOSE NAILSON MOURA    3010732.0   \n",
              "1                                     NaN          NaN   \n",
              "2                                     NaN          NaN   \n",
              "3                                     NaN          NaN   \n",
              "4                                     NaN          NaN   \n",
              "...                                   ...          ...   \n",
              "50562                                 NaN          NaN   \n",
              "50563                                 NaN          NaN   \n",
              "50564                                 NaN          NaN   \n",
              "50565                                 NaN          NaN   \n",
              "50566                                 NaN          NaN   \n",
              "\n",
              "                                 nom_centro_assist_fam  cod_centro_assist_fam  \\\n",
              "0      CENTRO DE REFERENCIA DA ASSISTENCIA SOCIAL CRAS           2.804500e+10   \n",
              "1                                                  NaN                    NaN   \n",
              "2                                                  NaN                    NaN   \n",
              "3                                                  NaN                    NaN   \n",
              "4                                                  NaN                    NaN   \n",
              "...                                                ...                    ...   \n",
              "50562                                              NaN                    NaN   \n",
              "50563                                              NaN                    NaN   \n",
              "50564                                              NaN                    NaN   \n",
              "50565                                              NaN                    NaN   \n",
              "50566                                              NaN                    NaN   \n",
              "\n",
              "       ind_parc_mds_fam  marc_pbf  qtde_pessoas      peso.fam  \n",
              "0                   0.0       1.0           2.0  5.502451e+14  \n",
              "1                   NaN       NaN           NaN           NaN  \n",
              "2                   NaN       NaN           NaN           NaN  \n",
              "3                   NaN       NaN           NaN           NaN  \n",
              "4                   NaN       NaN           NaN           NaN  \n",
              "...                 ...       ...           ...           ...  \n",
              "50562               NaN       NaN           NaN           NaN  \n",
              "50563               NaN       NaN           NaN           NaN  \n",
              "50564               NaN       NaN           NaN           NaN  \n",
              "50565               NaN       NaN           NaN           NaN  \n",
              "50566               NaN       NaN           NaN           NaN  \n",
              "\n",
              "[50567 rows x 31 columns]"
            ]
          },
          "execution_count": 179,
          "metadata": {},
          "output_type": "execute_result"
        }
      ],
      "source": [
        "df_recebem.mode()\n",
        "\n",
        "# MAIS FAMILIAS DA REGIÁO OUTRAS RECEBEM \n",
        "# MAIS FAMILIAS DA ZONA URBANA\n",
        "# MAIS FAMILIAS COM 2 PESSOAS"
      ]
    },
    {
      "cell_type": "code",
      "execution_count": 180,
      "metadata": {
        "colab": {
          "base_uri": "https://localhost:8080/"
        },
        "id": "1hGdJkwxsGRr",
        "outputId": "ff471288-f169-4677-e4ed-4472b6f72efa"
      },
      "outputs": [
        {
          "data": {
            "text/plain": [
              "0.1     7.0\n",
              "0.2    17.0\n",
              "0.3    27.0\n",
              "0.4    40.0\n",
              "0.5    50.0\n",
              "0.6    60.0\n",
              "0.7    70.0\n",
              "0.8    80.0\n",
              "0.9    96.4\n",
              "Name: vlr_renda_media_fam, dtype: float64"
            ]
          },
          "execution_count": 180,
          "metadata": {},
          "output_type": "execute_result"
        }
      ],
      "source": [
        "df_recebem.vlr_renda_media_fam.quantile([i / 10 for i in range(1,10)])"
      ]
    },
    {
      "cell_type": "code",
      "execution_count": 181,
      "metadata": {
        "colab": {
          "base_uri": "https://localhost:8080/",
          "height": 318
        },
        "id": "S_ugrbHKsm-I",
        "outputId": "87c705cc-db8e-4fed-f123-24b316a622f3"
      },
      "outputs": [
        {
          "data": {
            "text/plain": [
              "<AxesSubplot:title={'center':'Renda média'}, xlabel='vlr_renda_media_fam', ylabel='marc_pbf'>"
            ]
          },
          "execution_count": 181,
          "metadata": {},
          "output_type": "execute_result"
        },
        {
          "data": {
            "image/png": "[encoded data removed]",
            "text/plain": [
              "<Figure size 864x288 with 1 Axes>"
            ]
          },
          "metadata": {
            "needs_background": "light"
          },
          "output_type": "display_data"
        }
      ],
      "source": [
        "ax = sns.boxplot(x = 'vlr_renda_media_fam', y = 'marc_pbf', data = df.query('vlr_renda_media_fam < 2000'), orient = 'h')\n",
        "ax.figure.set_size_inches(12,4)\n",
        "ax.set_title('Renda média', fontsize=18)\n",
        "ax"
      ]
    },
    {
      "cell_type": "code",
      "execution_count": 182,
      "metadata": {},
      "outputs": [
        {
          "data": {
            "text/plain": [
              "<AxesSubplot:>"
            ]
          },
          "execution_count": 182,
          "metadata": {},
          "output_type": "execute_result"
        },
        {
          "data": {
            "image/png": "[encoded data removed]",
            "text/plain": [
              "<Figure size 432x288 with 1 Axes>"
            ]
          },
          "metadata": {
            "needs_background": "light"
          },
          "output_type": "display_data"
        }
      ],
      "source": [
        "# idade\n",
        "sns.boxplot(data=dp['idade'])\n"
      ]
    },
    {
      "cell_type": "code",
      "execution_count": 213,
      "metadata": {},
      "outputs": [
        {
          "data": {
            "text/plain": [
              "<AxesSubplot:>"
            ]
          },
          "execution_count": 213,
          "metadata": {},
          "output_type": "execute_result"
        },
        {
          "data": {
            "image/png": "[encoded data removed]",
            "text/plain": [
              "<Figure size 432x288 with 2 Axes>"
            ]
          },
          "metadata": {
            "needs_background": "light"
          },
          "output_type": "display_data"
        }
      ],
      "source": [
        "df['vlr_renda_media_fam'] = pd.cut(df['vlr_renda_media_fam'],bins=[0, 200, float('inf')],right=False,labels=[''])\n",
        "\n",
        "\n"
      ]
    },
    {
      "cell_type": "code",
      "execution_count": 183,
      "metadata": {},
      "outputs": [],
      "source": [
        "# transformação de dados\n",
        "\n",
        "# raça/cor das pessoas cadastradas\n",
        "dp['cod_raca_cor_pessoa'] = pd.cut(dp['cod_raca_cor_pessoa'],bins=[1.0,2.0,3.0,4.0,5.0,float('inf')],right=False,labels=['Branca','Preta','Amarela','Parda','Indígena'])\n",
        "\n",
        "# diferença da quantidade de HOMENS e MULHERES\n",
        "dp['cod_sexo_pessoa'] = pd.cut(dp['cod_sexo_pessoa'],bins=[1.0,2.0,float('inf')],right=False,labels=['Masculino','Feminino'])\n",
        "\n",
        "# remda média\n",
        "df['vlr_renda_media_fam'] = pd.cut(df['vlr_renda_media_fam'], bins=[0, 100.0, 500.0, float('inf')], right=False, labels=['Extrema Pobreza', 'Pobreza', 'Leve Pobreza'])\n",
        "\n",
        "# idade\n",
        "dp['idade'] = pd.cut(dp['idade'], bins=[0, 13, 24, 60, float('inf')], right=False, labels=['Criança', 'Adolescente', 'Adulto', 'Idoso'])\n",
        "\n"
      ]
    },
    {
      "cell_type": "code",
      "execution_count": 218,
      "metadata": {},
      "outputs": [
        {
          "data": {
            "text/plain": [
              "<AxesSubplot:>"
            ]
          },
          "execution_count": 218,
          "metadata": {},
          "output_type": "execute_result"
        },
        {
          "data": {
            "image/png": "[encoded data removed]",
            "text/plain": [
              "<Figure size 432x288 with 2 Axes>"
            ]
          },
          "metadata": {
            "needs_background": "light"
          },
          "output_type": "display_data"
        }
      ],
      "source": [
        "correlation = df[['marc_pbf', 'qtde_pessoas', 'vlr_renda_media_fam', 'cod_local_domic_fam']].corr()\n",
        "sns.heatmap(correlation, xticklabels=correlation.columns, yticklabels=correlation.columns, annot=True)"
      ]
    },
    {
      "cell_type": "code",
      "execution_count": 184,
      "metadata": {},
      "outputs": [
        {
          "data": {
            "text/plain": [
              "<AxesSubplot:>"
            ]
          },
          "execution_count": 184,
          "metadata": {},
          "output_type": "execute_result"
        },
        {
          "data": {
            "image/png": "[encoded data removed]",
            "text/plain": [
              "<Figure size 432x288 with 1 Axes>"
            ]
          },
          "metadata": {
            "needs_background": "light"
          },
          "output_type": "display_data"
        }
      ],
      "source": [
        "\n",
        "cor = dp['cod_raca_cor_pessoa'].value_counts().to_frame()\n",
        "cor.plot(kind='bar',color='blue')"
      ]
    },
    {
      "cell_type": "code",
      "execution_count": 185,
      "metadata": {},
      "outputs": [
        {
          "data": {
            "text/plain": [
              "<AxesSubplot:>"
            ]
          },
          "execution_count": 185,
          "metadata": {},
          "output_type": "execute_result"
        },
        {
          "data": {
            "image/png": "[encoded data removed]",
            "text/plain": [
              "<Figure size 432x288 with 1 Axes>"
            ]
          },
          "metadata": {
            "needs_background": "light"
          },
          "output_type": "display_data"
        }
      ],
      "source": [
        "\n",
        "sexo = dp['cod_sexo_pessoa'].value_counts().to_frame()\n",
        "sexo.plot(kind='bar',color='blue')"
      ]
    },
    {
      "cell_type": "code",
      "execution_count": 186,
      "metadata": {},
      "outputs": [
        {
          "data": {
            "text/plain": [
              "0        Extrema Pobreza\n",
              "44798    Extrema Pobreza\n",
              "44799    Extrema Pobreza\n",
              "44800    Extrema Pobreza\n",
              "44802    Extrema Pobreza\n",
              "              ...       \n",
              "11153       Leve Pobreza\n",
              "58676       Leve Pobreza\n",
              "58675       Leve Pobreza\n",
              "11139       Leve Pobreza\n",
              "56232       Leve Pobreza\n",
              "Name: vlr_renda_media_fam, Length: 82275, dtype: category\n",
              "Categories (3, object): ['Extrema Pobreza' < 'Pobreza' < 'Leve Pobreza']"
            ]
          },
          "execution_count": 186,
          "metadata": {},
          "output_type": "execute_result"
        }
      ],
      "source": [
        "# renda média das famílias\n",
        "df['vlr_renda_media_fam'].sort_values()"
      ]
    },
    {
      "cell_type": "code",
      "execution_count": 187,
      "metadata": {},
      "outputs": [
        {
          "data": {
            "text/plain": [
              "<AxesSubplot:>"
            ]
          },
          "execution_count": 187,
          "metadata": {},
          "output_type": "execute_result"
        },
        {
          "data": {
            "image/png": "[encoded data removed]",
            "text/plain": [
              "<Figure size 432x288 with 1 Axes>"
            ]
          },
          "metadata": {
            "needs_background": "light"
          },
          "output_type": "display_data"
        }
      ],
      "source": [
        "\n",
        "renda = df['vlr_renda_media_fam'].value_counts().to_frame()\n",
        "renda.plot(kind='bar', color='blue')"
      ]
    },
    {
      "cell_type": "code",
      "execution_count": 188,
      "metadata": {},
      "outputs": [
        {
          "data": {
            "text/plain": [
              "<AxesSubplot:>"
            ]
          },
          "execution_count": 188,
          "metadata": {},
          "output_type": "execute_result"
        },
        {
          "data": {
            "image/png": "[encoded data removed]",
            "text/plain": [
              "<Figure size 432x288 with 1 Axes>"
            ]
          },
          "metadata": {
            "needs_background": "light"
          },
          "output_type": "display_data"
        }
      ],
      "source": [
        "\n",
        "idade = dp['idade'].value_counts().to_frame()\n",
        "idade.plot(kind='bar', color='blue')"
      ]
    },
    {
      "cell_type": "code",
      "execution_count": 189,
      "metadata": {},
      "outputs": [
        {
          "data": {
            "text/plain": [
              "<AxesSubplot:>"
            ]
          },
          "execution_count": 189,
          "metadata": {},
          "output_type": "execute_result"
        },
        {
          "data": {
            "image/png": "[encoded data removed]",
            "text/plain": [
              "<Figure size 432x288 with 1 Axes>"
            ]
          },
          "metadata": {
            "needs_background": "light"
          },
          "output_type": "display_data"
        }
      ],
      "source": [
        "# nível de educação\n",
        "dp['cod_curso_frequentou_pessoa_memb'] = pd.cut(dp['cod_curso_frequentou_pessoa_memb'], bins=[0,1,2,3,4,5,6,7,8,9,10,11,12,13,14, float('inf')], right=False, labels=['creche', 'pré-escola (exceto CA)', 'classe de alfabetização', 'ensino fundamental (1 fase)', 'ensino fundamental (2 fase)', 'ensino fundamental (completo)', 'ensino fundamental especial', 'ensino médio', 'ensino médio especial', 'ensino fundamental (supletivo 1-4)', 'ensino fundamental (supletivo 5-8', 'ensino médio (supletivo)', 'ensino superior', 'alfabetização para adultos', 'nenhum'])\n",
        "\n",
        "freq = dp['cod_curso_frequentou_pessoa_memb'].value_counts().to_frame()\n",
        "freq.plot(kind='barh', color='red')"
      ]
    },
    {
      "cell_type": "code",
      "execution_count": 190,
      "metadata": {},
      "outputs": [
        {
          "data": {
            "text/plain": [
              "<AxesSubplot:>"
            ]
          },
          "execution_count": 190,
          "metadata": {},
          "output_type": "execute_result"
        },
        {
          "data": {
            "image/png": "[encoded data removed]",
            "text/plain": [
              "<Figure size 432x288 with 1 Axes>"
            ]
          },
          "metadata": {
            "needs_background": "light"
          },
          "output_type": "display_data"
        }
      ],
      "source": [
        "# tipo de trabalho\n",
        "dp['cod_principal_trab_memb'] = pd.cut(dp['cod_principal_trab_memb'], bins=[1,2,3,4,5,6,7,8,9,10,11, float('inf')], right=False, labels=['atuônomo', 'trab. temporário zona rural', 'empregado s/ carteira assinada', 'empregado c/ carteira assinada', 'trab. doméstico s/ carteira assinada', 'trab.doméstico c/ carteira assinada', 'trab. não-remunerado', 'militar ou servidor público', 'empregador', 'estagiário', 'aprendiz'])\n",
        "\n",
        "trab = dp['cod_principal_trab_memb'].value_counts().to_frame()\n",
        "trab.plot(kind='barh', color='red')"
      ]
    },
    {
      "cell_type": "code",
      "execution_count": 206,
      "metadata": {},
      "outputs": [
        {
          "ename": "ValueError",
          "evalue": "zero-size array to reduction operation fmin which has no identity",
          "output_type": "error",
          "traceback": [
            "\u001b[1;31m---------------------------------------------------------------------------\u001b[0m",
            "\u001b[1;31mValueError\u001b[0m                                Traceback (most recent call last)",
            "\u001b[1;32md:\\git\\ML-Bolsa-Familia\\Análise_Bolsa_Família.ipynb Cell 20'\u001b[0m in \u001b[0;36m<cell line: 4>\u001b[1;34m()\u001b[0m\n\u001b[0;32m      <a href='vscode-notebook-cell:/d%3A/git/ML-Bolsa-Familia/An%C3%A1lise_Bolsa_Fam%C3%ADlia.ipynb#ch0000022?line=0'>1</a>\u001b[0m \u001b[39m# remuneração\u001b[39;00m\n\u001b[0;32m      <a href='vscode-notebook-cell:/d%3A/git/ML-Bolsa-Familia/An%C3%A1lise_Bolsa_Fam%C3%ADlia.ipynb#ch0000022?line=1'>2</a>\u001b[0m \u001b[39m# dp['val_remuner_emprego_memb'].max()\u001b[39;00m\n\u001b[0;32m      <a href='vscode-notebook-cell:/d%3A/git/ML-Bolsa-Familia/An%C3%A1lise_Bolsa_Fam%C3%ADlia.ipynb#ch0000022?line=2'>3</a>\u001b[0m correlation \u001b[39m=\u001b[39m dp[[\u001b[39m'\u001b[39m\u001b[39mcod_curso_frequentou_pessoa_memb\u001b[39m\u001b[39m'\u001b[39m, \u001b[39m'\u001b[39m\u001b[39midade\u001b[39m\u001b[39m'\u001b[39m]]\u001b[39m.\u001b[39mcorr()\n\u001b[1;32m----> <a href='vscode-notebook-cell:/d%3A/git/ML-Bolsa-Familia/An%C3%A1lise_Bolsa_Fam%C3%ADlia.ipynb#ch0000022?line=3'>4</a>\u001b[0m sns\u001b[39m.\u001b[39;49mheatmap(correlation, xticklabels\u001b[39m=\u001b[39;49mcorrelation\u001b[39m.\u001b[39;49mcolumns, yticklabels\u001b[39m=\u001b[39;49mcorrelation\u001b[39m.\u001b[39;49mcolumns, annot\u001b[39m=\u001b[39;49m\u001b[39mTrue\u001b[39;49;00m)\n",
            "File \u001b[1;32mC:\\Python310\\lib\\site-packages\\seaborn\\_decorators.py:46\u001b[0m, in \u001b[0;36m_deprecate_positional_args.<locals>.inner_f\u001b[1;34m(*args, **kwargs)\u001b[0m\n\u001b[0;32m     <a href='file:///c%3A/Python310/lib/site-packages/seaborn/_decorators.py?line=35'>36</a>\u001b[0m     warnings\u001b[39m.\u001b[39mwarn(\n\u001b[0;32m     <a href='file:///c%3A/Python310/lib/site-packages/seaborn/_decorators.py?line=36'>37</a>\u001b[0m         \u001b[39m\"\u001b[39m\u001b[39mPass the following variable\u001b[39m\u001b[39m{}\u001b[39;00m\u001b[39m as \u001b[39m\u001b[39m{}\u001b[39;00m\u001b[39mkeyword arg\u001b[39m\u001b[39m{}\u001b[39;00m\u001b[39m: \u001b[39m\u001b[39m{}\u001b[39;00m\u001b[39m. \u001b[39m\u001b[39m\"\u001b[39m\n\u001b[0;32m     <a href='file:///c%3A/Python310/lib/site-packages/seaborn/_decorators.py?line=37'>38</a>\u001b[0m         \u001b[39m\"\u001b[39m\u001b[39mFrom version 0.12, the only valid positional argument \u001b[39m\u001b[39m\"\u001b[39m\n\u001b[1;32m   (...)\u001b[0m\n\u001b[0;32m     <a href='file:///c%3A/Python310/lib/site-packages/seaborn/_decorators.py?line=42'>43</a>\u001b[0m         \u001b[39mFutureWarning\u001b[39;00m\n\u001b[0;32m     <a href='file:///c%3A/Python310/lib/site-packages/seaborn/_decorators.py?line=43'>44</a>\u001b[0m     )\n\u001b[0;32m     <a href='file:///c%3A/Python310/lib/site-packages/seaborn/_decorators.py?line=44'>45</a>\u001b[0m kwargs\u001b[39m.\u001b[39mupdate({k: arg \u001b[39mfor\u001b[39;00m k, arg \u001b[39min\u001b[39;00m \u001b[39mzip\u001b[39m(sig\u001b[39m.\u001b[39mparameters, args)})\n\u001b[1;32m---> <a href='file:///c%3A/Python310/lib/site-packages/seaborn/_decorators.py?line=45'>46</a>\u001b[0m \u001b[39mreturn\u001b[39;00m f(\u001b[39m*\u001b[39m\u001b[39m*\u001b[39mkwargs)\n",
            "File \u001b[1;32mC:\\Python310\\lib\\site-packages\\seaborn\\matrix.py:540\u001b[0m, in \u001b[0;36mheatmap\u001b[1;34m(data, vmin, vmax, cmap, center, robust, annot, fmt, annot_kws, linewidths, linecolor, cbar, cbar_kws, cbar_ax, square, xticklabels, yticklabels, mask, ax, **kwargs)\u001b[0m\n\u001b[0;32m    <a href='file:///c%3A/Python310/lib/site-packages/seaborn/matrix.py?line=361'>362</a>\u001b[0m \u001b[39m\"\"\"Plot rectangular data as a color-encoded matrix.\u001b[39;00m\n\u001b[0;32m    <a href='file:///c%3A/Python310/lib/site-packages/seaborn/matrix.py?line=362'>363</a>\u001b[0m \n\u001b[0;32m    <a href='file:///c%3A/Python310/lib/site-packages/seaborn/matrix.py?line=363'>364</a>\u001b[0m \u001b[39mThis is an Axes-level function and will draw the heatmap into the\u001b[39;00m\n\u001b[1;32m   (...)\u001b[0m\n\u001b[0;32m    <a href='file:///c%3A/Python310/lib/site-packages/seaborn/matrix.py?line=536'>537</a>\u001b[0m \u001b[39m    ...     ax = sns.heatmap(corr, mask=mask, vmax=.3, square=True)\u001b[39;00m\n\u001b[0;32m    <a href='file:///c%3A/Python310/lib/site-packages/seaborn/matrix.py?line=537'>538</a>\u001b[0m \u001b[39m\"\"\"\u001b[39;00m\n\u001b[0;32m    <a href='file:///c%3A/Python310/lib/site-packages/seaborn/matrix.py?line=538'>539</a>\u001b[0m \u001b[39m# Initialize the plotter object\u001b[39;00m\n\u001b[1;32m--> <a href='file:///c%3A/Python310/lib/site-packages/seaborn/matrix.py?line=539'>540</a>\u001b[0m plotter \u001b[39m=\u001b[39m _HeatMapper(data, vmin, vmax, cmap, center, robust, annot, fmt,\n\u001b[0;32m    <a href='file:///c%3A/Python310/lib/site-packages/seaborn/matrix.py?line=540'>541</a>\u001b[0m                       annot_kws, cbar, cbar_kws, xticklabels,\n\u001b[0;32m    <a href='file:///c%3A/Python310/lib/site-packages/seaborn/matrix.py?line=541'>542</a>\u001b[0m                       yticklabels, mask)\n\u001b[0;32m    <a href='file:///c%3A/Python310/lib/site-packages/seaborn/matrix.py?line=543'>544</a>\u001b[0m \u001b[39m# Add the pcolormesh kwargs here\u001b[39;00m\n\u001b[0;32m    <a href='file:///c%3A/Python310/lib/site-packages/seaborn/matrix.py?line=544'>545</a>\u001b[0m kwargs[\u001b[39m\"\u001b[39m\u001b[39mlinewidths\u001b[39m\u001b[39m\"\u001b[39m] \u001b[39m=\u001b[39m linewidths\n",
            "File \u001b[1;32mC:\\Python310\\lib\\site-packages\\seaborn\\matrix.py:159\u001b[0m, in \u001b[0;36m_HeatMapper.__init__\u001b[1;34m(self, data, vmin, vmax, cmap, center, robust, annot, fmt, annot_kws, cbar, cbar_kws, xticklabels, yticklabels, mask)\u001b[0m\n\u001b[0;32m    <a href='file:///c%3A/Python310/lib/site-packages/seaborn/matrix.py?line=155'>156</a>\u001b[0m \u001b[39mself\u001b[39m\u001b[39m.\u001b[39mylabel \u001b[39m=\u001b[39m ylabel \u001b[39mif\u001b[39;00m ylabel \u001b[39mis\u001b[39;00m \u001b[39mnot\u001b[39;00m \u001b[39mNone\u001b[39;00m \u001b[39melse\u001b[39;00m \u001b[39m\"\u001b[39m\u001b[39m\"\u001b[39m\n\u001b[0;32m    <a href='file:///c%3A/Python310/lib/site-packages/seaborn/matrix.py?line=157'>158</a>\u001b[0m \u001b[39m# Determine good default values for the colormapping\u001b[39;00m\n\u001b[1;32m--> <a href='file:///c%3A/Python310/lib/site-packages/seaborn/matrix.py?line=158'>159</a>\u001b[0m \u001b[39mself\u001b[39;49m\u001b[39m.\u001b[39;49m_determine_cmap_params(plot_data, vmin, vmax,\n\u001b[0;32m    <a href='file:///c%3A/Python310/lib/site-packages/seaborn/matrix.py?line=159'>160</a>\u001b[0m                             cmap, center, robust)\n\u001b[0;32m    <a href='file:///c%3A/Python310/lib/site-packages/seaborn/matrix.py?line=161'>162</a>\u001b[0m \u001b[39m# Sort out the annotations\u001b[39;00m\n\u001b[0;32m    <a href='file:///c%3A/Python310/lib/site-packages/seaborn/matrix.py?line=162'>163</a>\u001b[0m \u001b[39mif\u001b[39;00m annot \u001b[39mis\u001b[39;00m \u001b[39mNone\u001b[39;00m \u001b[39mor\u001b[39;00m annot \u001b[39mis\u001b[39;00m \u001b[39mFalse\u001b[39;00m:\n",
            "File \u001b[1;32mC:\\Python310\\lib\\site-packages\\seaborn\\matrix.py:198\u001b[0m, in \u001b[0;36m_HeatMapper._determine_cmap_params\u001b[1;34m(self, plot_data, vmin, vmax, cmap, center, robust)\u001b[0m\n\u001b[0;32m    <a href='file:///c%3A/Python310/lib/site-packages/seaborn/matrix.py?line=195'>196</a>\u001b[0m         vmin \u001b[39m=\u001b[39m np\u001b[39m.\u001b[39mnanpercentile(calc_data, \u001b[39m2\u001b[39m)\n\u001b[0;32m    <a href='file:///c%3A/Python310/lib/site-packages/seaborn/matrix.py?line=196'>197</a>\u001b[0m     \u001b[39melse\u001b[39;00m:\n\u001b[1;32m--> <a href='file:///c%3A/Python310/lib/site-packages/seaborn/matrix.py?line=197'>198</a>\u001b[0m         vmin \u001b[39m=\u001b[39m np\u001b[39m.\u001b[39;49mnanmin(calc_data)\n\u001b[0;32m    <a href='file:///c%3A/Python310/lib/site-packages/seaborn/matrix.py?line=198'>199</a>\u001b[0m \u001b[39mif\u001b[39;00m vmax \u001b[39mis\u001b[39;00m \u001b[39mNone\u001b[39;00m:\n\u001b[0;32m    <a href='file:///c%3A/Python310/lib/site-packages/seaborn/matrix.py?line=199'>200</a>\u001b[0m     \u001b[39mif\u001b[39;00m robust:\n",
            "File \u001b[1;32m<__array_function__ internals>:180\u001b[0m, in \u001b[0;36mnanmin\u001b[1;34m(*args, **kwargs)\u001b[0m\n",
            "File \u001b[1;32mC:\\Python310\\lib\\site-packages\\numpy\\lib\\nanfunctions.py:344\u001b[0m, in \u001b[0;36mnanmin\u001b[1;34m(a, axis, out, keepdims, initial, where)\u001b[0m\n\u001b[0;32m    <a href='file:///c%3A/Python310/lib/site-packages/numpy/lib/nanfunctions.py?line=338'>339</a>\u001b[0m     kwargs[\u001b[39m'\u001b[39m\u001b[39mwhere\u001b[39m\u001b[39m'\u001b[39m] \u001b[39m=\u001b[39m where\n\u001b[0;32m    <a href='file:///c%3A/Python310/lib/site-packages/numpy/lib/nanfunctions.py?line=340'>341</a>\u001b[0m \u001b[39mif\u001b[39;00m \u001b[39mtype\u001b[39m(a) \u001b[39mis\u001b[39;00m np\u001b[39m.\u001b[39mndarray \u001b[39mand\u001b[39;00m a\u001b[39m.\u001b[39mdtype \u001b[39m!=\u001b[39m np\u001b[39m.\u001b[39mobject_:\n\u001b[0;32m    <a href='file:///c%3A/Python310/lib/site-packages/numpy/lib/nanfunctions.py?line=341'>342</a>\u001b[0m     \u001b[39m# Fast, but not safe for subclasses of ndarray, or object arrays,\u001b[39;00m\n\u001b[0;32m    <a href='file:///c%3A/Python310/lib/site-packages/numpy/lib/nanfunctions.py?line=342'>343</a>\u001b[0m     \u001b[39m# which do not implement isnan (gh-9009), or fmin correctly (gh-8975)\u001b[39;00m\n\u001b[1;32m--> <a href='file:///c%3A/Python310/lib/site-packages/numpy/lib/nanfunctions.py?line=343'>344</a>\u001b[0m     res \u001b[39m=\u001b[39m np\u001b[39m.\u001b[39mfmin\u001b[39m.\u001b[39mreduce(a, axis\u001b[39m=\u001b[39maxis, out\u001b[39m=\u001b[39mout, \u001b[39m*\u001b[39m\u001b[39m*\u001b[39mkwargs)\n\u001b[0;32m    <a href='file:///c%3A/Python310/lib/site-packages/numpy/lib/nanfunctions.py?line=344'>345</a>\u001b[0m     \u001b[39mif\u001b[39;00m np\u001b[39m.\u001b[39misnan(res)\u001b[39m.\u001b[39many():\n\u001b[0;32m    <a href='file:///c%3A/Python310/lib/site-packages/numpy/lib/nanfunctions.py?line=345'>346</a>\u001b[0m         warnings\u001b[39m.\u001b[39mwarn(\u001b[39m\"\u001b[39m\u001b[39mAll-NaN slice encountered\u001b[39m\u001b[39m\"\u001b[39m, \u001b[39mRuntimeWarning\u001b[39;00m,\n\u001b[0;32m    <a href='file:///c%3A/Python310/lib/site-packages/numpy/lib/nanfunctions.py?line=346'>347</a>\u001b[0m                       stacklevel\u001b[39m=\u001b[39m\u001b[39m3\u001b[39m)\n",
            "\u001b[1;31mValueError\u001b[0m: zero-size array to reduction operation fmin which has no identity"
          ]
        }
      ],
      "source": [
        "# remuneração\n",
        "# dp['val_remuner_emprego_memb'].max()\n"
      ]
    }
  ],
  "metadata": {
    "colab": {
      "collapsed_sections": [],
      "include_colab_link": true,
      "name": "Análise Bolsa Família.ipynb",
      "provenance": []
    },
    "kernelspec": {
      "display_name": "Python 3",
      "name": "python3"
    },
    "language_info": {
      "codemirror_mode": {
        "name": "ipython",
        "version": 3
      },
      "file_extension": ".py",
      "mimetype": "text/x-python",
      "name": "python",
      "nbconvert_exporter": "python",
      "pygments_lexer": "ipython3",
      "version": "3.10.2"
    }
  },
  "nbformat": 4,
  "nbformat_minor": 0
}
