{
  "cells": [
    {
      "cell_type": "markdown",
      "metadata": {
        "colab_type": "text",
        "id": "view-in-github"
      },
      "source": [
        "<a href=\"https://colab.research.google.com/github/brennoliveira/ML-Bolsa-Familia/blob/main/An%C3%A1lise_Bolsa_Fam%C3%ADlia.ipynb\" target=\"_parent\"><img src=\"https://colab.research.google.com/assets/colab-badge.svg\" alt=\"Open In Colab\"/></a>"
      ]
    },
    {
      "cell_type": "code",
      "execution_count": 47,
      "metadata": {
        "id": "mjJbCnvPr6gG"
      },
      "outputs": [],
      "source": [
        "import pandas as pd\n",
        "import numpy as np\n",
        "import seaborn as sns"
      ]
    },
    {
      "cell_type": "code",
      "execution_count": 48,
      "metadata": {
        "id": "9_7BCn7MsTWK"
      },
      "outputs": [],
      "source": [
        "df = pd.read_csv('datasets/data_familia_sergipe.csv')\n",
        "dp = pd.read_csv('datasets/data_pessoas_sergipe.csv')"
      ]
    },
    {
      "cell_type": "code",
      "execution_count": 49,
      "metadata": {
        "colab": {
          "base_uri": "https://localhost:8080/",
          "height": 958
        },
        "id": "tP5ysM5Uts3_",
        "outputId": "ce35449f-0ad4-450b-c882-a4eb9c65642e"
      },
      "outputs": [
        {
          "data": {
            "text/html": [
              "<div>\n",
              "<style scoped>\n",
              "    .dataframe tbody tr th:only-of-type {\n",
              "        vertical-align: middle;\n",
              "    }\n",
              "\n",
              "    .dataframe tbody tr th {\n",
              "        vertical-align: top;\n",
              "    }\n",
              "\n",
              "    .dataframe thead th {\n",
              "        text-align: right;\n",
              "    }\n",
              "</style>\n",
              "<table border=\"1\" class=\"dataframe\">\n",
              "  <thead>\n",
              "    <tr style=\"text-align: right;\">\n",
              "      <th></th>\n",
              "      <th>cd_ibge</th>\n",
              "      <th>estrato</th>\n",
              "      <th>classf</th>\n",
              "      <th>id_familia</th>\n",
              "      <th>dat_cadastramento_fam</th>\n",
              "      <th>dat_alteracao_fam</th>\n",
              "      <th>vlr_renda_media_fam</th>\n",
              "      <th>dat_atualizacao_familia</th>\n",
              "      <th>cod_local_domic_fam</th>\n",
              "      <th>cod_especie_domic_fam</th>\n",
              "      <th>...</th>\n",
              "      <th>cod_familia_indigena_fam</th>\n",
              "      <th>ind_familia_quilombola_fam</th>\n",
              "      <th>nom_estab_assist_saude_fam</th>\n",
              "      <th>cod_eas_fam</th>\n",
              "      <th>nom_centro_assist_fam</th>\n",
              "      <th>cod_centro_assist_fam</th>\n",
              "      <th>ind_parc_mds_fam</th>\n",
              "      <th>marc_pbf</th>\n",
              "      <th>qtde_pessoas</th>\n",
              "      <th>peso.fam</th>\n",
              "    </tr>\n",
              "  </thead>\n",
              "  <tbody>\n",
              "    <tr>\n",
              "      <th>0</th>\n",
              "      <td>2806206</td>\n",
              "      <td>2</td>\n",
              "      <td>3</td>\n",
              "      <td>183415.0</td>\n",
              "      <td>2006-01-07</td>\n",
              "      <td>2018-09-30</td>\n",
              "      <td>58.0</td>\n",
              "      <td>2018-02-27</td>\n",
              "      <td>1.0</td>\n",
              "      <td>1.0</td>\n",
              "      <td>...</td>\n",
              "      <td>2.0</td>\n",
              "      <td>2.0</td>\n",
              "      <td>P S IVA SALGUEIRO</td>\n",
              "      <td>2421836.0</td>\n",
              "      <td>CRAS CENTRO DE REFERENCIA DA ASSISTENCIA SOCIAL</td>\n",
              "      <td>2.806200e+10</td>\n",
              "      <td>0.0</td>\n",
              "      <td>0</td>\n",
              "      <td>4</td>\n",
              "      <td>550052838636015</td>\n",
              "    </tr>\n",
              "    <tr>\n",
              "      <th>1</th>\n",
              "      <td>2803609</td>\n",
              "      <td>2</td>\n",
              "      <td>3</td>\n",
              "      <td>183416.0</td>\n",
              "      <td>2010-03-09</td>\n",
              "      <td>2018-09-30</td>\n",
              "      <td>190.0</td>\n",
              "      <td>2018-07-20</td>\n",
              "      <td>2.0</td>\n",
              "      <td>1.0</td>\n",
              "      <td>...</td>\n",
              "      <td>2.0</td>\n",
              "      <td>2.0</td>\n",
              "      <td>POSTO DE SAUDE RICARDO HAGENBECK</td>\n",
              "      <td>2421380.0</td>\n",
              "      <td>CRAS ANGELA MARIA DE CARVALHO LIMA BOMFIM</td>\n",
              "      <td>2.803602e+10</td>\n",
              "      <td>0.0</td>\n",
              "      <td>0</td>\n",
              "      <td>5</td>\n",
              "      <td>550245146328323</td>\n",
              "    </tr>\n",
              "    <tr>\n",
              "      <th>2</th>\n",
              "      <td>2803203</td>\n",
              "      <td>2</td>\n",
              "      <td>3</td>\n",
              "      <td>183417.0</td>\n",
              "      <td>2006-02-25</td>\n",
              "      <td>2018-09-30</td>\n",
              "      <td>100.0</td>\n",
              "      <td>2018-08-21</td>\n",
              "      <td>1.0</td>\n",
              "      <td>1.0</td>\n",
              "      <td>...</td>\n",
              "      <td>2.0</td>\n",
              "      <td>2.0</td>\n",
              "      <td>NaN</td>\n",
              "      <td>NaN</td>\n",
              "      <td>NaN</td>\n",
              "      <td>NaN</td>\n",
              "      <td>0.0</td>\n",
              "      <td>1</td>\n",
              "      <td>2</td>\n",
              "      <td>550305936601879</td>\n",
              "    </tr>\n",
              "    <tr>\n",
              "      <th>3</th>\n",
              "      <td>2805703</td>\n",
              "      <td>2</td>\n",
              "      <td>3</td>\n",
              "      <td>183418.0</td>\n",
              "      <td>2004-05-25</td>\n",
              "      <td>2017-12-15</td>\n",
              "      <td>937.0</td>\n",
              "      <td>2017-11-09</td>\n",
              "      <td>1.0</td>\n",
              "      <td>1.0</td>\n",
              "      <td>...</td>\n",
              "      <td>2.0</td>\n",
              "      <td>2.0</td>\n",
              "      <td>NaN</td>\n",
              "      <td>NaN</td>\n",
              "      <td>NaN</td>\n",
              "      <td>NaN</td>\n",
              "      <td>0.0</td>\n",
              "      <td>0</td>\n",
              "      <td>1</td>\n",
              "      <td>550405659971983</td>\n",
              "    </tr>\n",
              "    <tr>\n",
              "      <th>4</th>\n",
              "      <td>2805307</td>\n",
              "      <td>1</td>\n",
              "      <td>3</td>\n",
              "      <td>183419.0</td>\n",
              "      <td>2016-03-31</td>\n",
              "      <td>2018-10-15</td>\n",
              "      <td>25.0</td>\n",
              "      <td>2018-10-15</td>\n",
              "      <td>2.0</td>\n",
              "      <td>1.0</td>\n",
              "      <td>...</td>\n",
              "      <td>2.0</td>\n",
              "      <td>2.0</td>\n",
              "      <td>NaN</td>\n",
              "      <td>NaN</td>\n",
              "      <td>NaN</td>\n",
              "      <td>NaN</td>\n",
              "      <td>0.0</td>\n",
              "      <td>1</td>\n",
              "      <td>2</td>\n",
              "      <td>550245146328323</td>\n",
              "    </tr>\n",
              "  </tbody>\n",
              "</table>\n",
              "<p>5 rows × 31 columns</p>\n",
              "</div>"
            ],
            "text/plain": [
              "   cd_ibge  estrato  classf  id_familia dat_cadastramento_fam  \\\n",
              "0  2806206        2       3    183415.0            2006-01-07   \n",
              "1  2803609        2       3    183416.0            2010-03-09   \n",
              "2  2803203        2       3    183417.0            2006-02-25   \n",
              "3  2805703        2       3    183418.0            2004-05-25   \n",
              "4  2805307        1       3    183419.0            2016-03-31   \n",
              "\n",
              "  dat_alteracao_fam  vlr_renda_media_fam dat_atualizacao_familia  \\\n",
              "0        2018-09-30                 58.0              2018-02-27   \n",
              "1        2018-09-30                190.0              2018-07-20   \n",
              "2        2018-09-30                100.0              2018-08-21   \n",
              "3        2017-12-15                937.0              2017-11-09   \n",
              "4        2018-10-15                 25.0              2018-10-15   \n",
              "\n",
              "   cod_local_domic_fam  cod_especie_domic_fam  ...  cod_familia_indigena_fam  \\\n",
              "0                  1.0                    1.0  ...                       2.0   \n",
              "1                  2.0                    1.0  ...                       2.0   \n",
              "2                  1.0                    1.0  ...                       2.0   \n",
              "3                  1.0                    1.0  ...                       2.0   \n",
              "4                  2.0                    1.0  ...                       2.0   \n",
              "\n",
              "   ind_familia_quilombola_fam        nom_estab_assist_saude_fam  cod_eas_fam  \\\n",
              "0                         2.0                 P S IVA SALGUEIRO    2421836.0   \n",
              "1                         2.0  POSTO DE SAUDE RICARDO HAGENBECK    2421380.0   \n",
              "2                         2.0                               NaN          NaN   \n",
              "3                         2.0                               NaN          NaN   \n",
              "4                         2.0                               NaN          NaN   \n",
              "\n",
              "                             nom_centro_assist_fam  cod_centro_assist_fam  \\\n",
              "0  CRAS CENTRO DE REFERENCIA DA ASSISTENCIA SOCIAL           2.806200e+10   \n",
              "1        CRAS ANGELA MARIA DE CARVALHO LIMA BOMFIM           2.803602e+10   \n",
              "2                                              NaN                    NaN   \n",
              "3                                              NaN                    NaN   \n",
              "4                                              NaN                    NaN   \n",
              "\n",
              "   ind_parc_mds_fam  marc_pbf  qtde_pessoas         peso.fam  \n",
              "0               0.0         0             4  550052838636015  \n",
              "1               0.0         0             5  550245146328323  \n",
              "2               0.0         1             2  550305936601879  \n",
              "3               0.0         0             1  550405659971983  \n",
              "4               0.0         1             2  550245146328323  \n",
              "\n",
              "[5 rows x 31 columns]"
            ]
          },
          "execution_count": 49,
          "metadata": {},
          "output_type": "execute_result"
        }
      ],
      "source": [
        "df.head()\n",
        "# 1. NORMALIZAR OS DADOS\n",
        "# 2. REDUZIR VARIÁVEIS\n",
        "# \n",
        "\n",
        "# df.corr()\n",
        "\n",
        "# A PARTIR DA CORRELAÇÃO, IDENTIFICAMENTO UMA CORRELAÇÃO NEGATIVA FORTE ENTRE marc_pbf e vlr_renda_media_fam\n",
        "\n",
        "# dp.corr()\n",
        "\n",
        "# A PARTIR DA CORRELAÇÃO, IDENTIFICAMENTO UMA CORRELAÇÃO POSITIVA FORTE ENTRE idade e cod_curso_frequenta_memb\n"
      ]
    },
    {
      "cell_type": "code",
      "execution_count": 50,
      "metadata": {
        "colab": {
          "base_uri": "https://localhost:8080/"
        },
        "id": "3JMIH8emvJ4I",
        "outputId": "a576e1d4-8dbd-4093-a192-352ff76f067d"
      },
      "outputs": [
        {
          "data": {
            "text/plain": [
              "1    61.460954\n",
              "0    38.539046\n",
              "Name: marc_pbf, dtype: float64"
            ]
          },
          "execution_count": 50,
          "metadata": {},
          "output_type": "execute_result"
        }
      ],
      "source": [
        "# PORCENTAGEM DE PESSOAS QUE RECEBEM BOLSA FAMILIA\n",
        "df_recebem = df.query('marc_pbf == 1')\n",
        "df_recebem\n",
        "\n",
        "df.marc_pbf.value_counts(normalize=True)*100"
      ]
    },
    {
      "cell_type": "code",
      "execution_count": 51,
      "metadata": {
        "colab": {
          "base_uri": "https://localhost:8080/",
          "height": 237
        },
        "id": "5_CYzdc0muS-",
        "outputId": "67e9db1d-9cb5-4dd8-dc13-2ac4c811457c"
      },
      "outputs": [
        {
          "data": {
            "text/html": [
              "<div>\n",
              "<style scoped>\n",
              "    .dataframe tbody tr th:only-of-type {\n",
              "        vertical-align: middle;\n",
              "    }\n",
              "\n",
              "    .dataframe tbody tr th {\n",
              "        vertical-align: top;\n",
              "    }\n",
              "\n",
              "    .dataframe thead th {\n",
              "        text-align: right;\n",
              "    }\n",
              "</style>\n",
              "<table border=\"1\" class=\"dataframe\">\n",
              "  <thead>\n",
              "    <tr style=\"text-align: right;\">\n",
              "      <th>vlr_renda_media_fam</th>\n",
              "      <th>0.0</th>\n",
              "      <th>1.0</th>\n",
              "      <th>2.0</th>\n",
              "      <th>3.0</th>\n",
              "      <th>4.0</th>\n",
              "      <th>5.0</th>\n",
              "      <th>6.0</th>\n",
              "      <th>7.0</th>\n",
              "      <th>8.0</th>\n",
              "      <th>9.0</th>\n",
              "      <th>...</th>\n",
              "      <th>2515.0</th>\n",
              "      <th>2542.0</th>\n",
              "      <th>2600.0</th>\n",
              "      <th>2638.0</th>\n",
              "      <th>2700.0</th>\n",
              "      <th>2701.0</th>\n",
              "      <th>2739.0</th>\n",
              "      <th>2791.0</th>\n",
              "      <th>2800.0</th>\n",
              "      <th>2811.0</th>\n",
              "    </tr>\n",
              "    <tr>\n",
              "      <th>marc_pbf</th>\n",
              "      <th></th>\n",
              "      <th></th>\n",
              "      <th></th>\n",
              "      <th></th>\n",
              "      <th></th>\n",
              "      <th></th>\n",
              "      <th></th>\n",
              "      <th></th>\n",
              "      <th></th>\n",
              "      <th></th>\n",
              "      <th></th>\n",
              "      <th></th>\n",
              "      <th></th>\n",
              "      <th></th>\n",
              "      <th></th>\n",
              "      <th></th>\n",
              "      <th></th>\n",
              "      <th></th>\n",
              "      <th></th>\n",
              "      <th></th>\n",
              "      <th></th>\n",
              "    </tr>\n",
              "  </thead>\n",
              "  <tbody>\n",
              "    <tr>\n",
              "      <th>0</th>\n",
              "      <td>338</td>\n",
              "      <td>1</td>\n",
              "      <td>12</td>\n",
              "      <td>7</td>\n",
              "      <td>22</td>\n",
              "      <td>27</td>\n",
              "      <td>35</td>\n",
              "      <td>18</td>\n",
              "      <td>47</td>\n",
              "      <td>2</td>\n",
              "      <td>...</td>\n",
              "      <td>1</td>\n",
              "      <td>1</td>\n",
              "      <td>1</td>\n",
              "      <td>1</td>\n",
              "      <td>2</td>\n",
              "      <td>1</td>\n",
              "      <td>1</td>\n",
              "      <td>1</td>\n",
              "      <td>2</td>\n",
              "      <td>2</td>\n",
              "    </tr>\n",
              "    <tr>\n",
              "      <th>1</th>\n",
              "      <td>2757</td>\n",
              "      <td>102</td>\n",
              "      <td>293</td>\n",
              "      <td>237</td>\n",
              "      <td>456</td>\n",
              "      <td>465</td>\n",
              "      <td>567</td>\n",
              "      <td>191</td>\n",
              "      <td>840</td>\n",
              "      <td>119</td>\n",
              "      <td>...</td>\n",
              "      <td>0</td>\n",
              "      <td>0</td>\n",
              "      <td>0</td>\n",
              "      <td>0</td>\n",
              "      <td>0</td>\n",
              "      <td>0</td>\n",
              "      <td>0</td>\n",
              "      <td>0</td>\n",
              "      <td>0</td>\n",
              "      <td>0</td>\n",
              "    </tr>\n",
              "  </tbody>\n",
              "</table>\n",
              "<p>2 rows × 1186 columns</p>\n",
              "</div>"
            ],
            "text/plain": [
              "vlr_renda_media_fam  0.0     1.0     2.0     3.0     4.0     5.0     6.0     \\\n",
              "marc_pbf                                                                      \n",
              "0                       338       1      12       7      22      27      35   \n",
              "1                      2757     102     293     237     456     465     567   \n",
              "\n",
              "vlr_renda_media_fam  7.0     8.0     9.0     ...  2515.0  2542.0  2600.0  \\\n",
              "marc_pbf                                     ...                           \n",
              "0                        18      47       2  ...       1       1       1   \n",
              "1                       191     840     119  ...       0       0       0   \n",
              "\n",
              "vlr_renda_media_fam  2638.0  2700.0  2701.0  2739.0  2791.0  2800.0  2811.0  \n",
              "marc_pbf                                                                     \n",
              "0                         1       2       1       1       1       2       2  \n",
              "1                         0       0       0       0       0       0       0  \n",
              "\n",
              "[2 rows x 1186 columns]"
            ]
          },
          "execution_count": 51,
          "metadata": {},
          "output_type": "execute_result"
        }
      ],
      "source": [
        "# QUEM RECEBE BF COMPARADO COM A RENDA MEDIA\n",
        "frequencia = pd.crosstab(df.marc_pbf, df.vlr_renda_media_fam)\n",
        "frequencia"
      ]
    },
    {
      "cell_type": "code",
      "execution_count": 52,
      "metadata": {
        "colab": {
          "base_uri": "https://localhost:8080/",
          "height": 592
        },
        "id": "hJ2dR0WUoB4n",
        "outputId": "968cc3db-e543-4e48-bd25-9e44cfd6b53c"
      },
      "outputs": [
        {
          "data": {
            "text/plain": [
              "marc_pbf\n",
              "0    478.413082\n",
              "1     55.436134\n",
              "Name: vlr_renda_media_fam, dtype: float64"
            ]
          },
          "execution_count": 52,
          "metadata": {},
          "output_type": "execute_result"
        }
      ],
      "source": [
        "# MÉDIA DA RENDA MÉDIA ENTRE AS PESSOAS QUE RECEBEM E N RECEBEM BOLSA FAMILIA\n",
        "df.groupby(['marc_pbf'])['vlr_renda_media_fam'].mean()\n",
        "\n"
      ]
    },
    {
      "cell_type": "code",
      "execution_count": 53,
      "metadata": {
        "colab": {
          "base_uri": "https://localhost:8080/",
          "height": 540
        },
        "id": "IhXJjTdkp1Yt",
        "outputId": "3d301d83-69f7-4fdc-edfc-13735885fbdd"
      },
      "outputs": [
        {
          "data": {
            "text/html": [
              "<div>\n",
              "<style scoped>\n",
              "    .dataframe tbody tr th:only-of-type {\n",
              "        vertical-align: middle;\n",
              "    }\n",
              "\n",
              "    .dataframe tbody tr th {\n",
              "        vertical-align: top;\n",
              "    }\n",
              "\n",
              "    .dataframe thead th {\n",
              "        text-align: right;\n",
              "    }\n",
              "</style>\n",
              "<table border=\"1\" class=\"dataframe\">\n",
              "  <thead>\n",
              "    <tr style=\"text-align: right;\">\n",
              "      <th></th>\n",
              "      <th>cd_ibge</th>\n",
              "      <th>estrato</th>\n",
              "      <th>classf</th>\n",
              "      <th>id_familia</th>\n",
              "      <th>dat_cadastramento_fam</th>\n",
              "      <th>dat_alteracao_fam</th>\n",
              "      <th>vlr_renda_media_fam</th>\n",
              "      <th>dat_atualizacao_familia</th>\n",
              "      <th>cod_local_domic_fam</th>\n",
              "      <th>cod_especie_domic_fam</th>\n",
              "      <th>...</th>\n",
              "      <th>cod_familia_indigena_fam</th>\n",
              "      <th>ind_familia_quilombola_fam</th>\n",
              "      <th>nom_estab_assist_saude_fam</th>\n",
              "      <th>cod_eas_fam</th>\n",
              "      <th>nom_centro_assist_fam</th>\n",
              "      <th>cod_centro_assist_fam</th>\n",
              "      <th>ind_parc_mds_fam</th>\n",
              "      <th>marc_pbf</th>\n",
              "      <th>qtde_pessoas</th>\n",
              "      <th>peso.fam</th>\n",
              "    </tr>\n",
              "  </thead>\n",
              "  <tbody>\n",
              "    <tr>\n",
              "      <th>0</th>\n",
              "      <td>2800308.0</td>\n",
              "      <td>2.0</td>\n",
              "      <td>3.0</td>\n",
              "      <td>183417.0</td>\n",
              "      <td>2003-03-13</td>\n",
              "      <td>2018-09-30</td>\n",
              "      <td>50.0</td>\n",
              "      <td>2018-09-11</td>\n",
              "      <td>1.0</td>\n",
              "      <td>1.0</td>\n",
              "      <td>...</td>\n",
              "      <td>2.0</td>\n",
              "      <td>2.0</td>\n",
              "      <td>CENTRO DE SAUDE JOSE NAILSON MOURA</td>\n",
              "      <td>3010732.0</td>\n",
              "      <td>CENTRO DE REFERENCIA DA ASSISTENCIA SOCIAL CRAS</td>\n",
              "      <td>2.804500e+10</td>\n",
              "      <td>0.0</td>\n",
              "      <td>1.0</td>\n",
              "      <td>2.0</td>\n",
              "      <td>5.502451e+14</td>\n",
              "    </tr>\n",
              "    <tr>\n",
              "      <th>1</th>\n",
              "      <td>NaN</td>\n",
              "      <td>NaN</td>\n",
              "      <td>NaN</td>\n",
              "      <td>183419.0</td>\n",
              "      <td>NaN</td>\n",
              "      <td>NaN</td>\n",
              "      <td>NaN</td>\n",
              "      <td>NaN</td>\n",
              "      <td>NaN</td>\n",
              "      <td>NaN</td>\n",
              "      <td>...</td>\n",
              "      <td>NaN</td>\n",
              "      <td>NaN</td>\n",
              "      <td>NaN</td>\n",
              "      <td>NaN</td>\n",
              "      <td>NaN</td>\n",
              "      <td>NaN</td>\n",
              "      <td>NaN</td>\n",
              "      <td>NaN</td>\n",
              "      <td>NaN</td>\n",
              "      <td>NaN</td>\n",
              "    </tr>\n",
              "    <tr>\n",
              "      <th>2</th>\n",
              "      <td>NaN</td>\n",
              "      <td>NaN</td>\n",
              "      <td>NaN</td>\n",
              "      <td>183420.0</td>\n",
              "      <td>NaN</td>\n",
              "      <td>NaN</td>\n",
              "      <td>NaN</td>\n",
              "      <td>NaN</td>\n",
              "      <td>NaN</td>\n",
              "      <td>NaN</td>\n",
              "      <td>...</td>\n",
              "      <td>NaN</td>\n",
              "      <td>NaN</td>\n",
              "      <td>NaN</td>\n",
              "      <td>NaN</td>\n",
              "      <td>NaN</td>\n",
              "      <td>NaN</td>\n",
              "      <td>NaN</td>\n",
              "      <td>NaN</td>\n",
              "      <td>NaN</td>\n",
              "      <td>NaN</td>\n",
              "    </tr>\n",
              "    <tr>\n",
              "      <th>3</th>\n",
              "      <td>NaN</td>\n",
              "      <td>NaN</td>\n",
              "      <td>NaN</td>\n",
              "      <td>183421.0</td>\n",
              "      <td>NaN</td>\n",
              "      <td>NaN</td>\n",
              "      <td>NaN</td>\n",
              "      <td>NaN</td>\n",
              "      <td>NaN</td>\n",
              "      <td>NaN</td>\n",
              "      <td>...</td>\n",
              "      <td>NaN</td>\n",
              "      <td>NaN</td>\n",
              "      <td>NaN</td>\n",
              "      <td>NaN</td>\n",
              "      <td>NaN</td>\n",
              "      <td>NaN</td>\n",
              "      <td>NaN</td>\n",
              "      <td>NaN</td>\n",
              "      <td>NaN</td>\n",
              "      <td>NaN</td>\n",
              "    </tr>\n",
              "    <tr>\n",
              "      <th>4</th>\n",
              "      <td>NaN</td>\n",
              "      <td>NaN</td>\n",
              "      <td>NaN</td>\n",
              "      <td>183422.0</td>\n",
              "      <td>NaN</td>\n",
              "      <td>NaN</td>\n",
              "      <td>NaN</td>\n",
              "      <td>NaN</td>\n",
              "      <td>NaN</td>\n",
              "      <td>NaN</td>\n",
              "      <td>...</td>\n",
              "      <td>NaN</td>\n",
              "      <td>NaN</td>\n",
              "      <td>NaN</td>\n",
              "      <td>NaN</td>\n",
              "      <td>NaN</td>\n",
              "      <td>NaN</td>\n",
              "      <td>NaN</td>\n",
              "      <td>NaN</td>\n",
              "      <td>NaN</td>\n",
              "      <td>NaN</td>\n",
              "    </tr>\n",
              "    <tr>\n",
              "      <th>...</th>\n",
              "      <td>...</td>\n",
              "      <td>...</td>\n",
              "      <td>...</td>\n",
              "      <td>...</td>\n",
              "      <td>...</td>\n",
              "      <td>...</td>\n",
              "      <td>...</td>\n",
              "      <td>...</td>\n",
              "      <td>...</td>\n",
              "      <td>...</td>\n",
              "      <td>...</td>\n",
              "      <td>...</td>\n",
              "      <td>...</td>\n",
              "      <td>...</td>\n",
              "      <td>...</td>\n",
              "      <td>...</td>\n",
              "      <td>...</td>\n",
              "      <td>...</td>\n",
              "      <td>...</td>\n",
              "      <td>...</td>\n",
              "      <td>...</td>\n",
              "    </tr>\n",
              "    <tr>\n",
              "      <th>50562</th>\n",
              "      <td>NaN</td>\n",
              "      <td>NaN</td>\n",
              "      <td>NaN</td>\n",
              "      <td>4250240.0</td>\n",
              "      <td>NaN</td>\n",
              "      <td>NaN</td>\n",
              "      <td>NaN</td>\n",
              "      <td>NaN</td>\n",
              "      <td>NaN</td>\n",
              "      <td>NaN</td>\n",
              "      <td>...</td>\n",
              "      <td>NaN</td>\n",
              "      <td>NaN</td>\n",
              "      <td>NaN</td>\n",
              "      <td>NaN</td>\n",
              "      <td>NaN</td>\n",
              "      <td>NaN</td>\n",
              "      <td>NaN</td>\n",
              "      <td>NaN</td>\n",
              "      <td>NaN</td>\n",
              "      <td>NaN</td>\n",
              "    </tr>\n",
              "    <tr>\n",
              "      <th>50563</th>\n",
              "      <td>NaN</td>\n",
              "      <td>NaN</td>\n",
              "      <td>NaN</td>\n",
              "      <td>4250241.0</td>\n",
              "      <td>NaN</td>\n",
              "      <td>NaN</td>\n",
              "      <td>NaN</td>\n",
              "      <td>NaN</td>\n",
              "      <td>NaN</td>\n",
              "      <td>NaN</td>\n",
              "      <td>...</td>\n",
              "      <td>NaN</td>\n",
              "      <td>NaN</td>\n",
              "      <td>NaN</td>\n",
              "      <td>NaN</td>\n",
              "      <td>NaN</td>\n",
              "      <td>NaN</td>\n",
              "      <td>NaN</td>\n",
              "      <td>NaN</td>\n",
              "      <td>NaN</td>\n",
              "      <td>NaN</td>\n",
              "    </tr>\n",
              "    <tr>\n",
              "      <th>50564</th>\n",
              "      <td>NaN</td>\n",
              "      <td>NaN</td>\n",
              "      <td>NaN</td>\n",
              "      <td>4250243.0</td>\n",
              "      <td>NaN</td>\n",
              "      <td>NaN</td>\n",
              "      <td>NaN</td>\n",
              "      <td>NaN</td>\n",
              "      <td>NaN</td>\n",
              "      <td>NaN</td>\n",
              "      <td>...</td>\n",
              "      <td>NaN</td>\n",
              "      <td>NaN</td>\n",
              "      <td>NaN</td>\n",
              "      <td>NaN</td>\n",
              "      <td>NaN</td>\n",
              "      <td>NaN</td>\n",
              "      <td>NaN</td>\n",
              "      <td>NaN</td>\n",
              "      <td>NaN</td>\n",
              "      <td>NaN</td>\n",
              "    </tr>\n",
              "    <tr>\n",
              "      <th>50565</th>\n",
              "      <td>NaN</td>\n",
              "      <td>NaN</td>\n",
              "      <td>NaN</td>\n",
              "      <td>4250244.0</td>\n",
              "      <td>NaN</td>\n",
              "      <td>NaN</td>\n",
              "      <td>NaN</td>\n",
              "      <td>NaN</td>\n",
              "      <td>NaN</td>\n",
              "      <td>NaN</td>\n",
              "      <td>...</td>\n",
              "      <td>NaN</td>\n",
              "      <td>NaN</td>\n",
              "      <td>NaN</td>\n",
              "      <td>NaN</td>\n",
              "      <td>NaN</td>\n",
              "      <td>NaN</td>\n",
              "      <td>NaN</td>\n",
              "      <td>NaN</td>\n",
              "      <td>NaN</td>\n",
              "      <td>NaN</td>\n",
              "    </tr>\n",
              "    <tr>\n",
              "      <th>50566</th>\n",
              "      <td>NaN</td>\n",
              "      <td>NaN</td>\n",
              "      <td>NaN</td>\n",
              "      <td>4250245.0</td>\n",
              "      <td>NaN</td>\n",
              "      <td>NaN</td>\n",
              "      <td>NaN</td>\n",
              "      <td>NaN</td>\n",
              "      <td>NaN</td>\n",
              "      <td>NaN</td>\n",
              "      <td>...</td>\n",
              "      <td>NaN</td>\n",
              "      <td>NaN</td>\n",
              "      <td>NaN</td>\n",
              "      <td>NaN</td>\n",
              "      <td>NaN</td>\n",
              "      <td>NaN</td>\n",
              "      <td>NaN</td>\n",
              "      <td>NaN</td>\n",
              "      <td>NaN</td>\n",
              "      <td>NaN</td>\n",
              "    </tr>\n",
              "  </tbody>\n",
              "</table>\n",
              "<p>50567 rows × 31 columns</p>\n",
              "</div>"
            ],
            "text/plain": [
              "         cd_ibge  estrato  classf  id_familia dat_cadastramento_fam  \\\n",
              "0      2800308.0      2.0     3.0    183417.0            2003-03-13   \n",
              "1            NaN      NaN     NaN    183419.0                   NaN   \n",
              "2            NaN      NaN     NaN    183420.0                   NaN   \n",
              "3            NaN      NaN     NaN    183421.0                   NaN   \n",
              "4            NaN      NaN     NaN    183422.0                   NaN   \n",
              "...          ...      ...     ...         ...                   ...   \n",
              "50562        NaN      NaN     NaN   4250240.0                   NaN   \n",
              "50563        NaN      NaN     NaN   4250241.0                   NaN   \n",
              "50564        NaN      NaN     NaN   4250243.0                   NaN   \n",
              "50565        NaN      NaN     NaN   4250244.0                   NaN   \n",
              "50566        NaN      NaN     NaN   4250245.0                   NaN   \n",
              "\n",
              "      dat_alteracao_fam  vlr_renda_media_fam dat_atualizacao_familia  \\\n",
              "0            2018-09-30                 50.0              2018-09-11   \n",
              "1                   NaN                  NaN                     NaN   \n",
              "2                   NaN                  NaN                     NaN   \n",
              "3                   NaN                  NaN                     NaN   \n",
              "4                   NaN                  NaN                     NaN   \n",
              "...                 ...                  ...                     ...   \n",
              "50562               NaN                  NaN                     NaN   \n",
              "50563               NaN                  NaN                     NaN   \n",
              "50564               NaN                  NaN                     NaN   \n",
              "50565               NaN                  NaN                     NaN   \n",
              "50566               NaN                  NaN                     NaN   \n",
              "\n",
              "       cod_local_domic_fam  cod_especie_domic_fam  ...  \\\n",
              "0                      1.0                    1.0  ...   \n",
              "1                      NaN                    NaN  ...   \n",
              "2                      NaN                    NaN  ...   \n",
              "3                      NaN                    NaN  ...   \n",
              "4                      NaN                    NaN  ...   \n",
              "...                    ...                    ...  ...   \n",
              "50562                  NaN                    NaN  ...   \n",
              "50563                  NaN                    NaN  ...   \n",
              "50564                  NaN                    NaN  ...   \n",
              "50565                  NaN                    NaN  ...   \n",
              "50566                  NaN                    NaN  ...   \n",
              "\n",
              "       cod_familia_indigena_fam  ind_familia_quilombola_fam  \\\n",
              "0                           2.0                         2.0   \n",
              "1                           NaN                         NaN   \n",
              "2                           NaN                         NaN   \n",
              "3                           NaN                         NaN   \n",
              "4                           NaN                         NaN   \n",
              "...                         ...                         ...   \n",
              "50562                       NaN                         NaN   \n",
              "50563                       NaN                         NaN   \n",
              "50564                       NaN                         NaN   \n",
              "50565                       NaN                         NaN   \n",
              "50566                       NaN                         NaN   \n",
              "\n",
              "               nom_estab_assist_saude_fam  cod_eas_fam  \\\n",
              "0      CENTRO DE SAUDE JOSE NAILSON MOURA    3010732.0   \n",
              "1                                     NaN          NaN   \n",
              "2                                     NaN          NaN   \n",
              "3                                     NaN          NaN   \n",
              "4                                     NaN          NaN   \n",
              "...                                   ...          ...   \n",
              "50562                                 NaN          NaN   \n",
              "50563                                 NaN          NaN   \n",
              "50564                                 NaN          NaN   \n",
              "50565                                 NaN          NaN   \n",
              "50566                                 NaN          NaN   \n",
              "\n",
              "                                 nom_centro_assist_fam  cod_centro_assist_fam  \\\n",
              "0      CENTRO DE REFERENCIA DA ASSISTENCIA SOCIAL CRAS           2.804500e+10   \n",
              "1                                                  NaN                    NaN   \n",
              "2                                                  NaN                    NaN   \n",
              "3                                                  NaN                    NaN   \n",
              "4                                                  NaN                    NaN   \n",
              "...                                                ...                    ...   \n",
              "50562                                              NaN                    NaN   \n",
              "50563                                              NaN                    NaN   \n",
              "50564                                              NaN                    NaN   \n",
              "50565                                              NaN                    NaN   \n",
              "50566                                              NaN                    NaN   \n",
              "\n",
              "       ind_parc_mds_fam  marc_pbf  qtde_pessoas      peso.fam  \n",
              "0                   0.0       1.0           2.0  5.502451e+14  \n",
              "1                   NaN       NaN           NaN           NaN  \n",
              "2                   NaN       NaN           NaN           NaN  \n",
              "3                   NaN       NaN           NaN           NaN  \n",
              "4                   NaN       NaN           NaN           NaN  \n",
              "...                 ...       ...           ...           ...  \n",
              "50562               NaN       NaN           NaN           NaN  \n",
              "50563               NaN       NaN           NaN           NaN  \n",
              "50564               NaN       NaN           NaN           NaN  \n",
              "50565               NaN       NaN           NaN           NaN  \n",
              "50566               NaN       NaN           NaN           NaN  \n",
              "\n",
              "[50567 rows x 31 columns]"
            ]
          },
          "execution_count": 53,
          "metadata": {},
          "output_type": "execute_result"
        }
      ],
      "source": [
        "df_recebem.mode()\n",
        "\n",
        "# MAIS FAMILIAS DA REGIÁO OUTRAS RECEBEM \n",
        "# MAIS FAMILIAS DA ZONA URBANA\n",
        "# MAIS FAMILIAS COM 2 PESSOAS"
      ]
    },
    {
      "cell_type": "code",
      "execution_count": 54,
      "metadata": {
        "colab": {
          "base_uri": "https://localhost:8080/"
        },
        "id": "1hGdJkwxsGRr",
        "outputId": "ff471288-f169-4677-e4ed-4472b6f72efa"
      },
      "outputs": [
        {
          "data": {
            "text/plain": [
              "0.1     7.0\n",
              "0.2    17.0\n",
              "0.3    27.0\n",
              "0.4    40.0\n",
              "0.5    50.0\n",
              "0.6    60.0\n",
              "0.7    70.0\n",
              "0.8    80.0\n",
              "0.9    96.4\n",
              "Name: vlr_renda_media_fam, dtype: float64"
            ]
          },
          "execution_count": 54,
          "metadata": {},
          "output_type": "execute_result"
        }
      ],
      "source": [
        "df_recebem.vlr_renda_media_fam.quantile([i / 10 for i in range(1,10)])"
      ]
    },
    {
      "cell_type": "code",
      "execution_count": 55,
      "metadata": {
        "colab": {
          "base_uri": "https://localhost:8080/",
          "height": 318
        },
        "id": "S_ugrbHKsm-I",
        "outputId": "87c705cc-db8e-4fed-f123-24b316a622f3"
      },
      "outputs": [
        {
          "data": {
            "text/plain": [
              "<AxesSubplot:title={'center':'Renda média'}, xlabel='vlr_renda_media_fam', ylabel='marc_pbf'>"
            ]
          },
          "execution_count": 55,
          "metadata": {},
          "output_type": "execute_result"
        },
        {
          "data": {
            "image/png": "[encoded data removed]",
            "text/plain": [
              "<Figure size 864x288 with 1 Axes>"
            ]
          },
          "metadata": {
            "needs_background": "light"
          },
          "output_type": "display_data"
        }
      ],
      "source": [
        "ax = sns.boxplot(x = 'vlr_renda_media_fam', y = 'marc_pbf', data = df.query('vlr_renda_media_fam < 2000'), orient = 'h')\n",
        "ax.figure.set_size_inches(12,4)\n",
        "ax.set_title('Renda média', fontsize=18)\n",
        "ax"
      ]
    },
    {
      "cell_type": "code",
      "execution_count": 56,
      "metadata": {},
      "outputs": [
        {
          "data": {
            "text/plain": [
              "<AxesSubplot:>"
            ]
          },
          "execution_count": 56,
          "metadata": {},
          "output_type": "execute_result"
        },
        {
          "data": {
            "image/png": "[encoded data removed]",
            "text/plain": [
              "<Figure size 432x288 with 1 Axes>"
            ]
          },
          "metadata": {
            "needs_background": "light"
          },
          "output_type": "display_data"
        }
      ],
      "source": [
        "# raça/cor das pessoas cadastradas\n",
        "dp['cod_raca_cor_pessoa'] = pd.cut(dp['cod_raca_cor_pessoa'],bins=[1.0,2.0,3.0,4.0,5.0,float('inf')],right=False,labels=['Branca','Preta','Amarela','Parda','Indígena'])\n",
        "\n",
        "cor = dp['cod_raca_cor_pessoa'].value_counts().to_frame()\n",
        "cor.plot(kind='bar',color='blue')"
      ]
    },
    {
      "cell_type": "code",
      "execution_count": 57,
      "metadata": {},
      "outputs": [
        {
          "data": {
            "text/plain": [
              "<AxesSubplot:>"
            ]
          },
          "execution_count": 57,
          "metadata": {},
          "output_type": "execute_result"
        },
        {
          "data": {
            "image/png": "[encoded data removed]",
            "text/plain": [
              "<Figure size 432x288 with 1 Axes>"
            ]
          },
          "metadata": {
            "needs_background": "light"
          },
          "output_type": "display_data"
        }
      ],
      "source": [
        "# diferença da quantidade de HOMENS e MULHERES\n",
        "dp['cod_sexo_pessoa'] = pd.cut(dp['cod_sexo_pessoa'],bins=[1.0,2.0,float('inf')],right=False,labels=['Masculino','Feminino'])\n",
        "\n",
        "sexo = dp['cod_sexo_pessoa'].value_counts().to_frame()\n",
        "sexo.plot(kind='bar',color='blue')"
      ]
    },
    {
      "cell_type": "code",
      "execution_count": 59,
      "metadata": {},
      "outputs": [
        {
          "data": {
            "text/plain": [
              "41137       0.0\n",
              "2280        0.0\n",
              "48299       0.0\n",
              "48300       0.0\n",
              "72823       0.0\n",
              "          ...  \n",
              "81526    2791.0\n",
              "21738    2800.0\n",
              "29644    2800.0\n",
              "9854     2811.0\n",
              "76243    2811.0\n",
              "Name: vlr_renda_media_fam, Length: 82275, dtype: float64"
            ]
          },
          "execution_count": 59,
          "metadata": {},
          "output_type": "execute_result"
        }
      ],
      "source": [
        "# renda média das famílias\n",
        "df['vlr_renda_media_fam'].sort_values()"
      ]
    },
    {
      "cell_type": "code",
      "execution_count": 60,
      "metadata": {},
      "outputs": [
        {
          "data": {
            "text/plain": [
              "<AxesSubplot:>"
            ]
          },
          "execution_count": 60,
          "metadata": {},
          "output_type": "execute_result"
        },
        {
          "data": {
            "image/png": "[encoded data removed]",
            "text/plain": [
              "<Figure size 432x288 with 1 Axes>"
            ]
          },
          "metadata": {
            "needs_background": "light"
          },
          "output_type": "display_data"
        }
      ],
      "source": [
        "df['vlr_renda_media_fam'] = pd.cut(df['vlr_renda_media_fam'], bins=[0, 100.0, 500.0, float('inf')], right=False, labels=['Extrema Pobreza', 'Pobreza', 'Leve Pobreza'])\n",
        "\n",
        "renda = df['vlr_renda_media_fam'].value_counts().to_frame()\n",
        "renda.plot(kind='bar', color='blue')"
      ]
    },
    {
      "cell_type": "code",
      "execution_count": 63,
      "metadata": {},
      "outputs": [
        {
          "data": {
            "text/plain": [
              "25.832720534593946"
            ]
          },
          "execution_count": 63,
          "metadata": {},
          "output_type": "execute_result"
        }
      ],
      "source": [
        "# idade média das famílias\n",
        "dp['idade'].mean()"
      ]
    },
    {
      "cell_type": "code",
      "execution_count": 64,
      "metadata": {},
      "outputs": [
        {
          "data": {
            "text/plain": [
              "<AxesSubplot:>"
            ]
          },
          "execution_count": 64,
          "metadata": {},
          "output_type": "execute_result"
        },
        {
          "data": {
            "image/png": "[encoded data removed]",
            "text/plain": [
              "<Figure size 432x288 with 1 Axes>"
            ]
          },
          "metadata": {
            "needs_background": "light"
          },
          "output_type": "display_data"
        }
      ],
      "source": [
        "dp['idade'] = pd.cut(dp['idade'], bins=[0, 17, float('inf')], right=False, labels=['Menor de Idade', 'Adulto'])\n",
        "\n",
        "idade = dp['idade'].value_counts().to_frame()\n",
        "idade.plot(kind='bar', color='blue')"
      ]
    }
  ],
  "metadata": {
    "colab": {
      "collapsed_sections": [],
      "include_colab_link": true,
      "name": "Análise Bolsa Família.ipynb",
      "provenance": []
    },
    "kernelspec": {
      "display_name": "Python 3",
      "name": "python3"
    },
    "language_info": {
      "codemirror_mode": {
        "name": "ipython",
        "version": 3
      },
      "file_extension": ".py",
      "mimetype": "text/x-python",
      "name": "python",
      "nbconvert_exporter": "python",
      "pygments_lexer": "ipython3",
      "version": "3.10.2"
    }
  },
  "nbformat": 4,
  "nbformat_minor": 0
}
